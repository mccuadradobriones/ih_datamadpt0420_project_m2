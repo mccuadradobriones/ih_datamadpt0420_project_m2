{
 "cells": [
  {
   "cell_type": "markdown",
   "metadata": {},
   "source": [
    "# Libraries\n",
    "\n",
    "### Data Handling\n",
    "- Pandas\n",
    "- Regex\n",
    "\n",
    "### Data Enriching\n",
    "- Requests\n",
    "- BeautifulSoup\n",
    "\n",
    "### Data Exploration\n",
    "- Missingno\n",
    "\n",
    "### Data Visualization\n",
    "- Matplotlib\n",
    "- Seaborn\n",
    "- Cufflinks\n",
    "- Plotly"
   ]
  },
  {
   "cell_type": "markdown",
   "metadata": {},
   "source": [
    "# Starting point"
   ]
  },
  {
   "cell_type": "markdown",
   "metadata": {},
   "source": [
    "# Diamonds 4Cs\n",
    "\n",
    "- **Cut** is determined by how a diamond’s facets interact with light. It is determine by three factors:\n",
    "    - Precision of cut: How the size and angles relate to the different parts of the stone\n",
    "    - Symmetry: How precisely the various facets of a diamond align and intersect\n",
    "    - Polish: The details and placement of the facet shapes as well as the outside finish of the diamond\n",
    "    \n",
    "    According to those parameters, diamonds are label by quality increasing order into Fair, Good, Very Good, Premium, Ideal.\n",
    "    \n",
    "    \n",
    "- **Clarity** is a measure of the purity and rarity of the stone graded by the visibility of these characteristics under 10-power magnification. A stone is graded as flawless (FL) if, under 10-power magnification, no inclusions (internal flaws) and no blemishes (external imperfections) are visible.Regarding this measure, we could rank diamonds by \n",
    "    - IF: diamonds are Internally Flawless,\n",
    "    - VVS1 VVS2: Very, Very Slightly Included\n",
    "    - VS1 VS2: Very Slightly Included\n",
    "    - SI1 SI2:Slightly Included\n",
    "    - I1 I2 I3: Imperfect\n",
    "    \n",
    "\n",
    "- **Color** refers to the natural tint inherent in white diamonds. \n",
    "    - DEF: Colorless\n",
    "    - GHIJ: Near colorless\n",
    "    - KLM: Faint yellow\n",
    "    - NOPQR: Very light yellow\n",
    "    - STUVWXYX: Light yellow\n",
    "    \n",
    "- **Carat** denotes the weight of a diamond. One carat equals .20 grams.  it is important to note that carat weight does not necessarily denote size The majority of diamonds used in fine jewelry weigh one carat or less.\n",
    "\n",
    "\n",
    "# Diamonds size\n",
    "\n",
    "- **Depth** refers to the diamond, measured from the Culet to the table, divided by its average Girdle Diameter. It gives a glimpse of how proportionated the diamond is.\n",
    "    - A diamond with a lower depth percentage usually appears larger due to its increased width, but often creates a dark appearance as the diamond doesn’t reflect light as well.\n",
    "    - A diamond with too high of a depth percentage loses light out the bottom of the diamond, making it appear dull.\n",
    "    Depth = height/width\n",
    "\n",
    "\n",
    "- **Table** : The Width of the Diamond's Table expressed as a Percentage of its Average Diameter.\n",
    "     - If the table percentage is too low, light gets trapped inside the diamond and leaks out the sides of the diamond (instead of reflecting back through the table). \n",
    "     - If the table percentage is too high, light doesn’t reflect off of the diamond’s crown angles and facets leaving the diamond looking dull. \n",
    "     Table = table facet width/width\n",
    "\n",
    "\n",
    "- **x** : Length of the Diamond in mm.\n",
    "\n",
    "\n",
    "- **y** : Width of the Diamond in mm. Diameter of the diamond also known as the girdle\n",
    "\n",
    "\n",
    "- **z**: Height of the Diamond in mm.\n",
    "\n",
    "\n",
    "- **Price** : the Price of the Diamond.\n",
    "\n",
    "\n",
    "## Let's see our conclusions!\n",
    "\n",
    "![Let see our diamonds conclusions](maxresdefault.jpg)"
   ]
  },
  {
   "cell_type": "code",
   "execution_count": 6,
   "metadata": {},
   "outputs": [],
   "source": [
    "import pandas as pd\n",
    "import numpy as np\n",
    "\n",
    "# Data Visualization\n",
    "import matplotlib.pyplot as plt\n",
    "import seaborn as sns\n",
    "from IPython.display import set_matplotlib_formats\n",
    "import cufflinks as cf\n",
    "import plotly.express as px\n",
    "import matplotlib.gridspec as gridspec\n",
    "import plotly.graph_objects as go\n",
    "import plotly.figure_factory as ff"
   ]
  },
  {
   "cell_type": "code",
   "execution_count": 7,
   "metadata": {},
   "outputs": [],
   "source": [
    "diamonds=pd.read_csv(r'../diamonds_result.csv')"
   ]
  },
  {
   "cell_type": "code",
   "execution_count": 11,
   "metadata": {},
   "outputs": [
    {
     "data": {
      "text/plain": [
       "Index(['Unnamed: 0', 'carat', 'cut', 'color', 'clarity', 'depth', 'table',\n",
       "       'price', 'x_x', 'y', 'z_x', 'table_type', 'carat_scale', 'depth_type',\n",
       "       'diamonds_type', 'heart lenght', 'Potential Client'],\n",
       "      dtype='object')"
      ]
     },
     "execution_count": 11,
     "metadata": {},
     "output_type": "execute_result"
    }
   ],
   "source": [
    "diamonds.columns"
   ]
  },
  {
   "cell_type": "markdown",
   "metadata": {},
   "source": [
    "- Prices should be adjusted\n",
    "- Carat is not the main pricing factor\n",
    "- There are very interesting potential clients\n",
    "- Shapes should still be explored and exploited"
   ]
  },
  {
   "cell_type": "markdown",
   "metadata": {},
   "source": [
    "Potential selling"
   ]
  },
  {
   "cell_type": "code",
   "execution_count": 9,
   "metadata": {},
   "outputs": [
    {
     "data": {
      "image/png": "[encoded data removed]",
      "text/plain": [
       "<Figure size 432x288 with 1 Axes>"
      ]
     },
     "metadata": {},
     "output_type": "display_data"
    }
   ],
   "source": [
    "# your code here\n",
    "colors = ['#ff9999','#66b3ff','#99ff99']\n",
    " \n",
    "# create data\n",
    "size_of_groups=diamonds['Potential Client'].value_counts()\n",
    "df = size_of_groups.rename_axis('size_of_groups').reset_index(name='counts')\n",
    "df.replace({1:'Tiffanys',2:'Piaget',3:'Cartier'}, inplace=True)\n",
    "\n",
    "# Create a pieplot\n",
    "plt.pie(size_of_groups, labels=df['counts'])\n",
    "plt.legend(df['size_of_groups'])\n",
    "plt.title('Potential clients distribution')\n",
    "plt.tight_layout()\n",
    "\n",
    "# add a circle at the center\n",
    "my_circle=plt.Circle( (0,0), 0.7, color='white')\n",
    "p=plt.gcf()\n",
    "p.gca().add_artist(my_circle)\n",
    "\n",
    "plt.show()"
   ]
  },
  {
   "cell_type": "markdown",
   "metadata": {},
   "source": [
    "Carat>3"
   ]
  },
  {
   "cell_type": "code",
   "execution_count": 16,
   "metadata": {},
   "outputs": [
    {
     "data": {
      "application/vnd.plotly.v1+json": {
       "config": {
        "plotlyServerURL": "https://plot.ly"
       },
       "data": [
        {
         "hovertemplate": "<b>%{hovertext}</b><br><br>color=I<br>price=%{x}<br>cut=%{y}<br>table=%{marker.size}<extra></extra>",
         "hovertext": [
          "Common",
          "Common",
          "Common",
          "Common",
          "Common",
          "Common",
          "Common",
          "Common",
          "Common",
          "Common"
         ],
         "legendgroup": "I",
         "marker": {
          "color": "#636efa",
          "size": [
           58,
           61,
           56,
           60,
           60,
           60,
           58,
           55,
           56,
           59
          ],
          "sizemode": "area",
          "sizeref": 0.017777777777777778,
          "symbol": "circle"
         },
         "mode": "markers",
         "name": "I",
         "orientation": "h",
         "showlegend": true,
         "type": "scatter",
         "x": [
          15984,
          15223,
          10577,
          18242,
          18559,
          18242,
          8040,
          12545,
          18242,
          18242
         ],
         "xaxis": "x",
         "y": [
          "Very Good",
          "Premium",
          "Fair",
          "Good",
          "Premium",
          "Good",
          "Premium",
          "Ideal",
          "Fair",
          "Premium"
         ],
         "yaxis": "y"
        },
        {
         "hovertemplate": "<b>%{hovertext}</b><br><br>color=J<br>price=%{x}<br>cut=%{y}<br>table=%{marker.size}<extra></extra>",
         "hovertext": [
          "Common",
          "Common",
          "Common",
          "Common",
          "Common",
          "Common",
          "Common"
         ],
         "legendgroup": "J",
         "marker": {
          "color": "#EF553B",
          "size": [
           58,
           60,
           58,
           57,
           59,
           62,
           58
          ],
          "sizemode": "area",
          "sizeref": 0.017777777777777778,
          "symbol": "circle"
         },
         "mode": "markers",
         "name": "J",
         "orientation": "h",
         "showlegend": true,
         "type": "scatter",
         "x": [
          18710,
          16538,
          16037,
          9823,
          18701,
          15223,
          18531
         ],
         "xaxis": "x",
         "y": [
          "Premium",
          "Ideal",
          "Ideal",
          "Fair",
          "Premium",
          "Premium",
          "Fair"
         ],
         "yaxis": "y"
        },
        {
         "hovertemplate": "<b>%{hovertext}</b><br><br>color=H<br>price=%{x}<br>cut=%{y}<br>table=%{marker.size}<extra></extra>",
         "hovertext": [
          "Common",
          "Common",
          "Common",
          "Common",
          "Common"
         ],
         "legendgroup": "H",
         "marker": {
          "color": "#00cc96",
          "size": [
           62,
           58,
           64,
           61,
           57
          ],
          "sizemode": "area",
          "sizeref": 0.017777777777777778,
          "symbol": "circle"
         },
         "mode": "markers",
         "name": "H",
         "orientation": "h",
         "showlegend": true,
         "type": "scatter",
         "x": [
          10761,
          12300,
          18593,
          17329,
          12587
         ],
         "xaxis": "x",
         "y": [
          "Fair",
          "Premium",
          "Good",
          "Fair",
          "Ideal"
         ],
         "yaxis": "y"
        },
        {
         "hovertemplate": "<b>%{hovertext}</b><br><br>color=G<br>price=%{x}<br>cut=%{y}<br>table=%{marker.size}<extra></extra>",
         "hovertext": [
          "Common"
         ],
         "legendgroup": "G",
         "marker": {
          "color": "#ab63fa",
          "size": [
           58
          ],
          "sizemode": "area",
          "sizeref": 0.017777777777777778,
          "symbol": "circle"
         },
         "mode": "markers",
         "name": "G",
         "orientation": "h",
         "showlegend": true,
         "type": "scatter",
         "x": [
          14220
         ],
         "xaxis": "x",
         "y": [
          "Premium"
         ],
         "yaxis": "y"
        },
        {
         "hovertemplate": "<b>%{hovertext}</b><br><br>color=D<br>price=%{x}<br>cut=%{y}<br>table=%{marker.size}<extra></extra>",
         "hovertext": [
          "Common"
         ],
         "legendgroup": "D",
         "marker": {
          "color": "#FFA15A",
          "size": [
           52
          ],
          "sizemode": "area",
          "sizeref": 0.017777777777777778,
          "symbol": "circle"
         },
         "mode": "markers",
         "name": "D",
         "orientation": "h",
         "showlegend": true,
         "type": "scatter",
         "x": [
          15964
         ],
         "xaxis": "x",
         "y": [
          "Fair"
         ],
         "yaxis": "y"
        },
        {
         "hovertemplate": "<b>%{hovertext}</b><br><br>color=F<br>price=%{x}<br>cut=%{y}<br>table=%{marker.size}<extra></extra>",
         "hovertext": [
          "Common"
         ],
         "legendgroup": "F",
         "marker": {
          "color": "#19d3f3",
          "size": [
           56
          ],
          "sizemode": "area",
          "sizeref": 0.017777777777777778,
          "symbol": "circle"
         },
         "mode": "markers",
         "name": "F",
         "orientation": "h",
         "showlegend": true,
         "type": "scatter",
         "x": [
          9925
         ],
         "xaxis": "x",
         "y": [
          "Premium"
         ],
         "yaxis": "y"
        },
        {
         "hovertemplate": "<b>%{hovertext}</b><br><br>color=E<br>price=%{x}<br>cut=%{y}<br>table=%{marker.size}<extra></extra>",
         "hovertext": [
          "Common"
         ],
         "legendgroup": "E",
         "marker": {
          "color": "#FF6692",
          "size": [
           58
          ],
          "sizemode": "area",
          "sizeref": 0.017777777777777778,
          "symbol": "circle"
         },
         "mode": "markers",
         "name": "E",
         "orientation": "h",
         "showlegend": true,
         "type": "scatter",
         "x": [
          10453
         ],
         "xaxis": "x",
         "y": [
          "Premium"
         ],
         "yaxis": "y"
        }
       ],
       "layout": {
        "legend": {
         "itemsizing": "constant",
         "title": {
          "text": "color"
         },
         "tracegroupgap": 0
        },
        "margin": {
         "t": 60
        },
        "template": {
         "data": {
          "bar": [
           {
            "error_x": {
             "color": "#2a3f5f"
            },
            "error_y": {
             "color": "#2a3f5f"
            },
            "marker": {
             "line": {
              "color": "#E5ECF6",
              "width": 0.5
             }
            },
            "type": "bar"
           }
          ],
          "barpolar": [
           {
            "marker": {
             "line": {
              "color": "#E5ECF6",
              "width": 0.5
             }
            },
            "type": "barpolar"
           }
          ],
          "carpet": [
           {
            "aaxis": {
             "endlinecolor": "#2a3f5f",
             "gridcolor": "white",
             "linecolor": "white",
             "minorgridcolor": "white",
             "startlinecolor": "#2a3f5f"
            },
            "baxis": {
             "endlinecolor": "#2a3f5f",
             "gridcolor": "white",
             "linecolor": "white",
             "minorgridcolor": "white",
             "startlinecolor": "#2a3f5f"
            },
            "type": "carpet"
           }
          ],
          "choropleth": [
           {
            "colorbar": {
             "outlinewidth": 0,
             "ticks": ""
            },
            "type": "choropleth"
           }
          ],
          "contour": [
           {
            "colorbar": {
             "outlinewidth": 0,
             "ticks": ""
            },
            "colorscale": [
             [
              0,
              "#0d0887"
             ],
             [
              0.1111111111111111,
              "#46039f"
             ],
             [
              0.2222222222222222,
              "#7201a8"
             ],
             [
              0.3333333333333333,
              "#9c179e"
             ],
             [
              0.4444444444444444,
              "#bd3786"
             ],
             [
              0.5555555555555556,
              "#d8576b"
             ],
             [
              0.6666666666666666,
              "#ed7953"
             ],
             [
              0.7777777777777778,
              "#fb9f3a"
             ],
             [
              0.8888888888888888,
              "#fdca26"
             ],
             [
              1,
              "#f0f921"
             ]
            ],
            "type": "contour"
           }
          ],
          "contourcarpet": [
           {
            "colorbar": {
             "outlinewidth": 0,
             "ticks": ""
            },
            "type": "contourcarpet"
           }
          ],
          "heatmap": [
           {
            "colorbar": {
             "outlinewidth": 0,
             "ticks": ""
            },
            "colorscale": [
             [
              0,
              "#0d0887"
             ],
             [
              0.1111111111111111,
              "#46039f"
             ],
             [
              0.2222222222222222,
              "#7201a8"
             ],
             [
              0.3333333333333333,
              "#9c179e"
             ],
             [
              0.4444444444444444,
              "#bd3786"
             ],
             [
              0.5555555555555556,
              "#d8576b"
             ],
             [
              0.6666666666666666,
              "#ed7953"
             ],
             [
              0.7777777777777778,
              "#fb9f3a"
             ],
             [
              0.8888888888888888,
              "#fdca26"
             ],
             [
              1,
              "#f0f921"
             ]
            ],
            "type": "heatmap"
           }
          ],
          "heatmapgl": [
           {
            "colorbar": {
             "outlinewidth": 0,
             "ticks": ""
            },
            "colorscale": [
             [
              0,
              "#0d0887"
             ],
             [
              0.1111111111111111,
              "#46039f"
             ],
             [
              0.2222222222222222,
              "#7201a8"
             ],
             [
              0.3333333333333333,
              "#9c179e"
             ],
             [
              0.4444444444444444,
              "#bd3786"
             ],
             [
              0.5555555555555556,
              "#d8576b"
             ],
             [
              0.6666666666666666,
              "#ed7953"
             ],
             [
              0.7777777777777778,
              "#fb9f3a"
             ],
             [
              0.8888888888888888,
              "#fdca26"
             ],
             [
              1,
              "#f0f921"
             ]
            ],
            "type": "heatmapgl"
           }
          ],
          "histogram": [
           {
            "marker": {
             "colorbar": {
              "outlinewidth": 0,
              "ticks": ""
             }
            },
            "type": "histogram"
           }
          ],
          "histogram2d": [
           {
            "colorbar": {
             "outlinewidth": 0,
             "ticks": ""
            },
            "colorscale": [
             [
              0,
              "#0d0887"
             ],
             [
              0.1111111111111111,
              "#46039f"
             ],
             [
              0.2222222222222222,
              "#7201a8"
             ],
             [
              0.3333333333333333,
              "#9c179e"
             ],
             [
              0.4444444444444444,
              "#bd3786"
             ],
             [
              0.5555555555555556,
              "#d8576b"
             ],
             [
              0.6666666666666666,
              "#ed7953"
             ],
             [
              0.7777777777777778,
              "#fb9f3a"
             ],
             [
              0.8888888888888888,
              "#fdca26"
             ],
             [
              1,
              "#f0f921"
             ]
            ],
            "type": "histogram2d"
           }
          ],
          "histogram2dcontour": [
           {
            "colorbar": {
             "outlinewidth": 0,
             "ticks": ""
            },
            "colorscale": [
             [
              0,
              "#0d0887"
             ],
             [
              0.1111111111111111,
              "#46039f"
             ],
             [
              0.2222222222222222,
              "#7201a8"
             ],
             [
              0.3333333333333333,
              "#9c179e"
             ],
             [
              0.4444444444444444,
              "#bd3786"
             ],
             [
              0.5555555555555556,
              "#d8576b"
             ],
             [
              0.6666666666666666,
              "#ed7953"
             ],
             [
              0.7777777777777778,
              "#fb9f3a"
             ],
             [
              0.8888888888888888,
              "#fdca26"
             ],
             [
              1,
              "#f0f921"
             ]
            ],
            "type": "histogram2dcontour"
           }
          ],
          "mesh3d": [
           {
            "colorbar": {
             "outlinewidth": 0,
             "ticks": ""
            },
            "type": "mesh3d"
           }
          ],
          "parcoords": [
           {
            "line": {
             "colorbar": {
              "outlinewidth": 0,
              "ticks": ""
             }
            },
            "type": "parcoords"
           }
          ],
          "pie": [
           {
            "automargin": true,
            "type": "pie"
           }
          ],
          "scatter": [
           {
            "marker": {
             "colorbar": {
              "outlinewidth": 0,
              "ticks": ""
             }
            },
            "type": "scatter"
           }
          ],
          "scatter3d": [
           {
            "line": {
             "colorbar": {
              "outlinewidth": 0,
              "ticks": ""
             }
            },
            "marker": {
             "colorbar": {
              "outlinewidth": 0,
              "ticks": ""
             }
            },
            "type": "scatter3d"
           }
          ],
          "scattercarpet": [
           {
            "marker": {
             "colorbar": {
              "outlinewidth": 0,
              "ticks": ""
             }
            },
            "type": "scattercarpet"
           }
          ],
          "scattergeo": [
           {
            "marker": {
             "colorbar": {
              "outlinewidth": 0,
              "ticks": ""
             }
            },
            "type": "scattergeo"
           }
          ],
          "scattergl": [
           {
            "marker": {
             "colorbar": {
              "outlinewidth": 0,
              "ticks": ""
             }
            },
            "type": "scattergl"
           }
          ],
          "scattermapbox": [
           {
            "marker": {
             "colorbar": {
              "outlinewidth": 0,
              "ticks": ""
             }
            },
            "type": "scattermapbox"
           }
          ],
          "scatterpolar": [
           {
            "marker": {
             "colorbar": {
              "outlinewidth": 0,
              "ticks": ""
             }
            },
            "type": "scatterpolar"
           }
          ],
          "scatterpolargl": [
           {
            "marker": {
             "colorbar": {
              "outlinewidth": 0,
              "ticks": ""
             }
            },
            "type": "scatterpolargl"
           }
          ],
          "scatterternary": [
           {
            "marker": {
             "colorbar": {
              "outlinewidth": 0,
              "ticks": ""
             }
            },
            "type": "scatterternary"
           }
          ],
          "surface": [
           {
            "colorbar": {
             "outlinewidth": 0,
             "ticks": ""
            },
            "colorscale": [
             [
              0,
              "#0d0887"
             ],
             [
              0.1111111111111111,
              "#46039f"
             ],
             [
              0.2222222222222222,
              "#7201a8"
             ],
             [
              0.3333333333333333,
              "#9c179e"
             ],
             [
              0.4444444444444444,
              "#bd3786"
             ],
             [
              0.5555555555555556,
              "#d8576b"
             ],
             [
              0.6666666666666666,
              "#ed7953"
             ],
             [
              0.7777777777777778,
              "#fb9f3a"
             ],
             [
              0.8888888888888888,
              "#fdca26"
             ],
             [
              1,
              "#f0f921"
             ]
            ],
            "type": "surface"
           }
          ],
          "table": [
           {
            "cells": {
             "fill": {
              "color": "#EBF0F8"
             },
             "line": {
              "color": "white"
             }
            },
            "header": {
             "fill": {
              "color": "#C8D4E3"
             },
             "line": {
              "color": "white"
             }
            },
            "type": "table"
           }
          ]
         },
         "layout": {
          "annotationdefaults": {
           "arrowcolor": "#2a3f5f",
           "arrowhead": 0,
           "arrowwidth": 1
          },
          "coloraxis": {
           "colorbar": {
            "outlinewidth": 0,
            "ticks": ""
           }
          },
          "colorscale": {
           "diverging": [
            [
             0,
             "#8e0152"
            ],
            [
             0.1,
             "#c51b7d"
            ],
            [
             0.2,
             "#de77ae"
            ],
            [
             0.3,
             "#f1b6da"
            ],
            [
             0.4,
             "#fde0ef"
            ],
            [
             0.5,
             "#f7f7f7"
            ],
            [
             0.6,
             "#e6f5d0"
            ],
            [
             0.7,
             "#b8e186"
            ],
            [
             0.8,
             "#7fbc41"
            ],
            [
             0.9,
             "#4d9221"
            ],
            [
             1,
             "#276419"
            ]
           ],
           "sequential": [
            [
             0,
             "#0d0887"
            ],
            [
             0.1111111111111111,
             "#46039f"
            ],
            [
             0.2222222222222222,
             "#7201a8"
            ],
            [
             0.3333333333333333,
             "#9c179e"
            ],
            [
             0.4444444444444444,
             "#bd3786"
            ],
            [
             0.5555555555555556,
             "#d8576b"
            ],
            [
             0.6666666666666666,
             "#ed7953"
            ],
            [
             0.7777777777777778,
             "#fb9f3a"
            ],
            [
             0.8888888888888888,
             "#fdca26"
            ],
            [
             1,
             "#f0f921"
            ]
           ],
           "sequentialminus": [
            [
             0,
             "#0d0887"
            ],
            [
             0.1111111111111111,
             "#46039f"
            ],
            [
             0.2222222222222222,
             "#7201a8"
            ],
            [
             0.3333333333333333,
             "#9c179e"
            ],
            [
             0.4444444444444444,
             "#bd3786"
            ],
            [
             0.5555555555555556,
             "#d8576b"
            ],
            [
             0.6666666666666666,
             "#ed7953"
            ],
            [
             0.7777777777777778,
             "#fb9f3a"
            ],
            [
             0.8888888888888888,
             "#fdca26"
            ],
            [
             1,
             "#f0f921"
            ]
           ]
          },
          "colorway": [
           "#636efa",
           "#EF553B",
           "#00cc96",
           "#ab63fa",
           "#FFA15A",
           "#19d3f3",
           "#FF6692",
           "#B6E880",
           "#FF97FF",
           "#FECB52"
          ],
          "font": {
           "color": "#2a3f5f"
          },
          "geo": {
           "bgcolor": "white",
           "lakecolor": "white",
           "landcolor": "#E5ECF6",
           "showlakes": true,
           "showland": true,
           "subunitcolor": "white"
          },
          "hoverlabel": {
           "align": "left"
          },
          "hovermode": "closest",
          "mapbox": {
           "style": "light"
          },
          "paper_bgcolor": "white",
          "plot_bgcolor": "#E5ECF6",
          "polar": {
           "angularaxis": {
            "gridcolor": "white",
            "linecolor": "white",
            "ticks": ""
           },
           "bgcolor": "#E5ECF6",
           "radialaxis": {
            "gridcolor": "white",
            "linecolor": "white",
            "ticks": ""
           }
          },
          "scene": {
           "xaxis": {
            "backgroundcolor": "#E5ECF6",
            "gridcolor": "white",
            "gridwidth": 2,
            "linecolor": "white",
            "showbackground": true,
            "ticks": "",
            "zerolinecolor": "white"
           },
           "yaxis": {
            "backgroundcolor": "#E5ECF6",
            "gridcolor": "white",
            "gridwidth": 2,
            "linecolor": "white",
            "showbackground": true,
            "ticks": "",
            "zerolinecolor": "white"
           },
           "zaxis": {
            "backgroundcolor": "#E5ECF6",
            "gridcolor": "white",
            "gridwidth": 2,
            "linecolor": "white",
            "showbackground": true,
            "ticks": "",
            "zerolinecolor": "white"
           }
          },
          "shapedefaults": {
           "line": {
            "color": "#2a3f5f"
           }
          },
          "ternary": {
           "aaxis": {
            "gridcolor": "white",
            "linecolor": "white",
            "ticks": ""
           },
           "baxis": {
            "gridcolor": "white",
            "linecolor": "white",
            "ticks": ""
           },
           "bgcolor": "#E5ECF6",
           "caxis": {
            "gridcolor": "white",
            "linecolor": "white",
            "ticks": ""
           }
          },
          "title": {
           "x": 0.05
          },
          "xaxis": {
           "automargin": true,
           "gridcolor": "white",
           "linecolor": "white",
           "ticks": "",
           "title": {
            "standoff": 15
           },
           "zerolinecolor": "white",
           "zerolinewidth": 2
          },
          "yaxis": {
           "automargin": true,
           "gridcolor": "white",
           "linecolor": "white",
           "ticks": "",
           "title": {
            "standoff": 15
           },
           "zerolinecolor": "white",
           "zerolinewidth": 2
          }
         }
        },
        "xaxis": {
         "anchor": "y",
         "domain": [
          0,
          1
         ],
         "title": {
          "text": "price"
         },
         "type": "log"
        },
        "yaxis": {
         "anchor": "x",
         "domain": [
          0,
          1
         ],
         "title": {
          "text": "cut"
         }
        }
       }
      },
      "text/html": [
       "<div>\n",
       "        \n",
       "        \n",
       "            <div id=\"fca68339-b1a2-4bcd-af68-6ade562d62cb\" class=\"plotly-graph-div\" style=\"height:525px; width:100%;\"></div>\n",
       "            <script type=\"text/javascript\">\n",
       "                require([\"plotly\"], function(Plotly) {\n",
       "                    window.PLOTLYENV=window.PLOTLYENV || {};\n",
       "                    \n",
       "                if (document.getElementById(\"fca68339-b1a2-4bcd-af68-6ade562d62cb\")) {\n",
       "                    Plotly.newPlot(\n",
       "                        'fca68339-b1a2-4bcd-af68-6ade562d62cb',\n",
       "                        [{\"hovertemplate\": \"<b>%{hovertext}</b><br><br>color=I<br>price=%{x}<br>cut=%{y}<br>table=%{marker.size}<extra></extra>\", \"hovertext\": [\"Common\", \"Common\", \"Common\", \"Common\", \"Common\", \"Common\", \"Common\", \"Common\", \"Common\", \"Common\"], \"legendgroup\": \"I\", \"marker\": {\"color\": \"#636efa\", \"size\": [58.0, 61.0, 56.0, 60.0, 60.0, 60.0, 58.0, 55.0, 56.0, 59.0], \"sizemode\": \"area\", \"sizeref\": 0.017777777777777778, \"symbol\": \"circle\"}, \"mode\": \"markers\", \"name\": \"I\", \"orientation\": \"h\", \"showlegend\": true, \"type\": \"scatter\", \"x\": [15984, 15223, 10577, 18242, 18559, 18242, 8040, 12545, 18242, 18242], \"xaxis\": \"x\", \"y\": [\"Very Good\", \"Premium\", \"Fair\", \"Good\", \"Premium\", \"Good\", \"Premium\", \"Ideal\", \"Fair\", \"Premium\"], \"yaxis\": \"y\"}, {\"hovertemplate\": \"<b>%{hovertext}</b><br><br>color=J<br>price=%{x}<br>cut=%{y}<br>table=%{marker.size}<extra></extra>\", \"hovertext\": [\"Common\", \"Common\", \"Common\", \"Common\", \"Common\", \"Common\", \"Common\"], \"legendgroup\": \"J\", \"marker\": {\"color\": \"#EF553B\", \"size\": [58.0, 60.0, 58.0, 57.0, 59.0, 62.0, 58.0], \"sizemode\": \"area\", \"sizeref\": 0.017777777777777778, \"symbol\": \"circle\"}, \"mode\": \"markers\", \"name\": \"J\", \"orientation\": \"h\", \"showlegend\": true, \"type\": \"scatter\", \"x\": [18710, 16538, 16037, 9823, 18701, 15223, 18531], \"xaxis\": \"x\", \"y\": [\"Premium\", \"Ideal\", \"Ideal\", \"Fair\", \"Premium\", \"Premium\", \"Fair\"], \"yaxis\": \"y\"}, {\"hovertemplate\": \"<b>%{hovertext}</b><br><br>color=H<br>price=%{x}<br>cut=%{y}<br>table=%{marker.size}<extra></extra>\", \"hovertext\": [\"Common\", \"Common\", \"Common\", \"Common\", \"Common\"], \"legendgroup\": \"H\", \"marker\": {\"color\": \"#00cc96\", \"size\": [62.0, 58.0, 64.0, 61.0, 57.0], \"sizemode\": \"area\", \"sizeref\": 0.017777777777777778, \"symbol\": \"circle\"}, \"mode\": \"markers\", \"name\": \"H\", \"orientation\": \"h\", \"showlegend\": true, \"type\": \"scatter\", \"x\": [10761, 12300, 18593, 17329, 12587], \"xaxis\": \"x\", \"y\": [\"Fair\", \"Premium\", \"Good\", \"Fair\", \"Ideal\"], \"yaxis\": \"y\"}, {\"hovertemplate\": \"<b>%{hovertext}</b><br><br>color=G<br>price=%{x}<br>cut=%{y}<br>table=%{marker.size}<extra></extra>\", \"hovertext\": [\"Common\"], \"legendgroup\": \"G\", \"marker\": {\"color\": \"#ab63fa\", \"size\": [58.0], \"sizemode\": \"area\", \"sizeref\": 0.017777777777777778, \"symbol\": \"circle\"}, \"mode\": \"markers\", \"name\": \"G\", \"orientation\": \"h\", \"showlegend\": true, \"type\": \"scatter\", \"x\": [14220], \"xaxis\": \"x\", \"y\": [\"Premium\"], \"yaxis\": \"y\"}, {\"hovertemplate\": \"<b>%{hovertext}</b><br><br>color=D<br>price=%{x}<br>cut=%{y}<br>table=%{marker.size}<extra></extra>\", \"hovertext\": [\"Common\"], \"legendgroup\": \"D\", \"marker\": {\"color\": \"#FFA15A\", \"size\": [52.0], \"sizemode\": \"area\", \"sizeref\": 0.017777777777777778, \"symbol\": \"circle\"}, \"mode\": \"markers\", \"name\": \"D\", \"orientation\": \"h\", \"showlegend\": true, \"type\": \"scatter\", \"x\": [15964], \"xaxis\": \"x\", \"y\": [\"Fair\"], \"yaxis\": \"y\"}, {\"hovertemplate\": \"<b>%{hovertext}</b><br><br>color=F<br>price=%{x}<br>cut=%{y}<br>table=%{marker.size}<extra></extra>\", \"hovertext\": [\"Common\"], \"legendgroup\": \"F\", \"marker\": {\"color\": \"#19d3f3\", \"size\": [56.0], \"sizemode\": \"area\", \"sizeref\": 0.017777777777777778, \"symbol\": \"circle\"}, \"mode\": \"markers\", \"name\": \"F\", \"orientation\": \"h\", \"showlegend\": true, \"type\": \"scatter\", \"x\": [9925], \"xaxis\": \"x\", \"y\": [\"Premium\"], \"yaxis\": \"y\"}, {\"hovertemplate\": \"<b>%{hovertext}</b><br><br>color=E<br>price=%{x}<br>cut=%{y}<br>table=%{marker.size}<extra></extra>\", \"hovertext\": [\"Common\"], \"legendgroup\": \"E\", \"marker\": {\"color\": \"#FF6692\", \"size\": [58.0], \"sizemode\": \"area\", \"sizeref\": 0.017777777777777778, \"symbol\": \"circle\"}, \"mode\": \"markers\", \"name\": \"E\", \"orientation\": \"h\", \"showlegend\": true, \"type\": \"scatter\", \"x\": [10453], \"xaxis\": \"x\", \"y\": [\"Premium\"], \"yaxis\": \"y\"}],\n",
       "                        {\"legend\": {\"itemsizing\": \"constant\", \"title\": {\"text\": \"color\"}, \"tracegroupgap\": 0}, \"margin\": {\"t\": 60}, \"template\": {\"data\": {\"bar\": [{\"error_x\": {\"color\": \"#2a3f5f\"}, \"error_y\": {\"color\": \"#2a3f5f\"}, \"marker\": {\"line\": {\"color\": \"#E5ECF6\", \"width\": 0.5}}, \"type\": \"bar\"}], \"barpolar\": [{\"marker\": {\"line\": {\"color\": \"#E5ECF6\", \"width\": 0.5}}, \"type\": \"barpolar\"}], \"carpet\": [{\"aaxis\": {\"endlinecolor\": \"#2a3f5f\", \"gridcolor\": \"white\", \"linecolor\": \"white\", \"minorgridcolor\": \"white\", \"startlinecolor\": \"#2a3f5f\"}, \"baxis\": {\"endlinecolor\": \"#2a3f5f\", \"gridcolor\": \"white\", \"linecolor\": \"white\", \"minorgridcolor\": \"white\", \"startlinecolor\": \"#2a3f5f\"}, \"type\": \"carpet\"}], \"choropleth\": [{\"colorbar\": {\"outlinewidth\": 0, \"ticks\": \"\"}, \"type\": \"choropleth\"}], \"contour\": [{\"colorbar\": {\"outlinewidth\": 0, \"ticks\": \"\"}, \"colorscale\": [[0.0, \"#0d0887\"], [0.1111111111111111, \"#46039f\"], [0.2222222222222222, \"#7201a8\"], [0.3333333333333333, \"#9c179e\"], [0.4444444444444444, \"#bd3786\"], [0.5555555555555556, \"#d8576b\"], [0.6666666666666666, \"#ed7953\"], [0.7777777777777778, \"#fb9f3a\"], [0.8888888888888888, \"#fdca26\"], [1.0, \"#f0f921\"]], \"type\": \"contour\"}], \"contourcarpet\": [{\"colorbar\": {\"outlinewidth\": 0, \"ticks\": \"\"}, \"type\": \"contourcarpet\"}], \"heatmap\": [{\"colorbar\": {\"outlinewidth\": 0, \"ticks\": \"\"}, \"colorscale\": [[0.0, \"#0d0887\"], [0.1111111111111111, \"#46039f\"], [0.2222222222222222, \"#7201a8\"], [0.3333333333333333, \"#9c179e\"], [0.4444444444444444, \"#bd3786\"], [0.5555555555555556, \"#d8576b\"], [0.6666666666666666, \"#ed7953\"], [0.7777777777777778, \"#fb9f3a\"], [0.8888888888888888, \"#fdca26\"], [1.0, \"#f0f921\"]], \"type\": \"heatmap\"}], \"heatmapgl\": [{\"colorbar\": {\"outlinewidth\": 0, \"ticks\": \"\"}, \"colorscale\": [[0.0, \"#0d0887\"], [0.1111111111111111, \"#46039f\"], [0.2222222222222222, \"#7201a8\"], [0.3333333333333333, \"#9c179e\"], [0.4444444444444444, \"#bd3786\"], [0.5555555555555556, \"#d8576b\"], [0.6666666666666666, \"#ed7953\"], [0.7777777777777778, \"#fb9f3a\"], [0.8888888888888888, \"#fdca26\"], [1.0, \"#f0f921\"]], \"type\": \"heatmapgl\"}], \"histogram\": [{\"marker\": {\"colorbar\": {\"outlinewidth\": 0, \"ticks\": \"\"}}, \"type\": \"histogram\"}], \"histogram2d\": [{\"colorbar\": {\"outlinewidth\": 0, \"ticks\": \"\"}, \"colorscale\": [[0.0, \"#0d0887\"], [0.1111111111111111, \"#46039f\"], [0.2222222222222222, \"#7201a8\"], [0.3333333333333333, \"#9c179e\"], [0.4444444444444444, \"#bd3786\"], [0.5555555555555556, \"#d8576b\"], [0.6666666666666666, \"#ed7953\"], [0.7777777777777778, \"#fb9f3a\"], [0.8888888888888888, \"#fdca26\"], [1.0, \"#f0f921\"]], \"type\": \"histogram2d\"}], \"histogram2dcontour\": [{\"colorbar\": {\"outlinewidth\": 0, \"ticks\": \"\"}, \"colorscale\": [[0.0, \"#0d0887\"], [0.1111111111111111, \"#46039f\"], [0.2222222222222222, \"#7201a8\"], [0.3333333333333333, \"#9c179e\"], [0.4444444444444444, \"#bd3786\"], [0.5555555555555556, \"#d8576b\"], [0.6666666666666666, \"#ed7953\"], [0.7777777777777778, \"#fb9f3a\"], [0.8888888888888888, \"#fdca26\"], [1.0, \"#f0f921\"]], \"type\": \"histogram2dcontour\"}], \"mesh3d\": [{\"colorbar\": {\"outlinewidth\": 0, \"ticks\": \"\"}, \"type\": \"mesh3d\"}], \"parcoords\": [{\"line\": {\"colorbar\": {\"outlinewidth\": 0, \"ticks\": \"\"}}, \"type\": \"parcoords\"}], \"pie\": [{\"automargin\": true, \"type\": \"pie\"}], \"scatter\": [{\"marker\": {\"colorbar\": {\"outlinewidth\": 0, \"ticks\": \"\"}}, \"type\": \"scatter\"}], \"scatter3d\": [{\"line\": {\"colorbar\": {\"outlinewidth\": 0, \"ticks\": \"\"}}, \"marker\": {\"colorbar\": {\"outlinewidth\": 0, \"ticks\": \"\"}}, \"type\": \"scatter3d\"}], \"scattercarpet\": [{\"marker\": {\"colorbar\": {\"outlinewidth\": 0, \"ticks\": \"\"}}, \"type\": \"scattercarpet\"}], \"scattergeo\": [{\"marker\": {\"colorbar\": {\"outlinewidth\": 0, \"ticks\": \"\"}}, \"type\": \"scattergeo\"}], \"scattergl\": [{\"marker\": {\"colorbar\": {\"outlinewidth\": 0, \"ticks\": \"\"}}, \"type\": \"scattergl\"}], \"scattermapbox\": [{\"marker\": {\"colorbar\": {\"outlinewidth\": 0, \"ticks\": \"\"}}, \"type\": \"scattermapbox\"}], \"scatterpolar\": [{\"marker\": {\"colorbar\": {\"outlinewidth\": 0, \"ticks\": \"\"}}, \"type\": \"scatterpolar\"}], \"scatterpolargl\": [{\"marker\": {\"colorbar\": {\"outlinewidth\": 0, \"ticks\": \"\"}}, \"type\": \"scatterpolargl\"}], \"scatterternary\": [{\"marker\": {\"colorbar\": {\"outlinewidth\": 0, \"ticks\": \"\"}}, \"type\": \"scatterternary\"}], \"surface\": [{\"colorbar\": {\"outlinewidth\": 0, \"ticks\": \"\"}, \"colorscale\": [[0.0, \"#0d0887\"], [0.1111111111111111, \"#46039f\"], [0.2222222222222222, \"#7201a8\"], [0.3333333333333333, \"#9c179e\"], [0.4444444444444444, \"#bd3786\"], [0.5555555555555556, \"#d8576b\"], [0.6666666666666666, \"#ed7953\"], [0.7777777777777778, \"#fb9f3a\"], [0.8888888888888888, \"#fdca26\"], [1.0, \"#f0f921\"]], \"type\": \"surface\"}], \"table\": [{\"cells\": {\"fill\": {\"color\": \"#EBF0F8\"}, \"line\": {\"color\": \"white\"}}, \"header\": {\"fill\": {\"color\": \"#C8D4E3\"}, \"line\": {\"color\": \"white\"}}, \"type\": \"table\"}]}, \"layout\": {\"annotationdefaults\": {\"arrowcolor\": \"#2a3f5f\", \"arrowhead\": 0, \"arrowwidth\": 1}, \"coloraxis\": {\"colorbar\": {\"outlinewidth\": 0, \"ticks\": \"\"}}, \"colorscale\": {\"diverging\": [[0, \"#8e0152\"], [0.1, \"#c51b7d\"], [0.2, \"#de77ae\"], [0.3, \"#f1b6da\"], [0.4, \"#fde0ef\"], [0.5, \"#f7f7f7\"], [0.6, \"#e6f5d0\"], [0.7, \"#b8e186\"], [0.8, \"#7fbc41\"], [0.9, \"#4d9221\"], [1, \"#276419\"]], \"sequential\": [[0.0, \"#0d0887\"], [0.1111111111111111, \"#46039f\"], [0.2222222222222222, \"#7201a8\"], [0.3333333333333333, \"#9c179e\"], [0.4444444444444444, \"#bd3786\"], [0.5555555555555556, \"#d8576b\"], [0.6666666666666666, \"#ed7953\"], [0.7777777777777778, \"#fb9f3a\"], [0.8888888888888888, \"#fdca26\"], [1.0, \"#f0f921\"]], \"sequentialminus\": [[0.0, \"#0d0887\"], [0.1111111111111111, \"#46039f\"], [0.2222222222222222, \"#7201a8\"], [0.3333333333333333, \"#9c179e\"], [0.4444444444444444, \"#bd3786\"], [0.5555555555555556, \"#d8576b\"], [0.6666666666666666, \"#ed7953\"], [0.7777777777777778, \"#fb9f3a\"], [0.8888888888888888, \"#fdca26\"], [1.0, \"#f0f921\"]]}, \"colorway\": [\"#636efa\", \"#EF553B\", \"#00cc96\", \"#ab63fa\", \"#FFA15A\", \"#19d3f3\", \"#FF6692\", \"#B6E880\", \"#FF97FF\", \"#FECB52\"], \"font\": {\"color\": \"#2a3f5f\"}, \"geo\": {\"bgcolor\": \"white\", \"lakecolor\": \"white\", \"landcolor\": \"#E5ECF6\", \"showlakes\": true, \"showland\": true, \"subunitcolor\": \"white\"}, \"hoverlabel\": {\"align\": \"left\"}, \"hovermode\": \"closest\", \"mapbox\": {\"style\": \"light\"}, \"paper_bgcolor\": \"white\", \"plot_bgcolor\": \"#E5ECF6\", \"polar\": {\"angularaxis\": {\"gridcolor\": \"white\", \"linecolor\": \"white\", \"ticks\": \"\"}, \"bgcolor\": \"#E5ECF6\", \"radialaxis\": {\"gridcolor\": \"white\", \"linecolor\": \"white\", \"ticks\": \"\"}}, \"scene\": {\"xaxis\": {\"backgroundcolor\": \"#E5ECF6\", \"gridcolor\": \"white\", \"gridwidth\": 2, \"linecolor\": \"white\", \"showbackground\": true, \"ticks\": \"\", \"zerolinecolor\": \"white\"}, \"yaxis\": {\"backgroundcolor\": \"#E5ECF6\", \"gridcolor\": \"white\", \"gridwidth\": 2, \"linecolor\": \"white\", \"showbackground\": true, \"ticks\": \"\", \"zerolinecolor\": \"white\"}, \"zaxis\": {\"backgroundcolor\": \"#E5ECF6\", \"gridcolor\": \"white\", \"gridwidth\": 2, \"linecolor\": \"white\", \"showbackground\": true, \"ticks\": \"\", \"zerolinecolor\": \"white\"}}, \"shapedefaults\": {\"line\": {\"color\": \"#2a3f5f\"}}, \"ternary\": {\"aaxis\": {\"gridcolor\": \"white\", \"linecolor\": \"white\", \"ticks\": \"\"}, \"baxis\": {\"gridcolor\": \"white\", \"linecolor\": \"white\", \"ticks\": \"\"}, \"bgcolor\": \"#E5ECF6\", \"caxis\": {\"gridcolor\": \"white\", \"linecolor\": \"white\", \"ticks\": \"\"}}, \"title\": {\"x\": 0.05}, \"xaxis\": {\"automargin\": true, \"gridcolor\": \"white\", \"linecolor\": \"white\", \"ticks\": \"\", \"title\": {\"standoff\": 15}, \"zerolinecolor\": \"white\", \"zerolinewidth\": 2}, \"yaxis\": {\"automargin\": true, \"gridcolor\": \"white\", \"linecolor\": \"white\", \"ticks\": \"\", \"title\": {\"standoff\": 15}, \"zerolinecolor\": \"white\", \"zerolinewidth\": 2}}}, \"xaxis\": {\"anchor\": \"y\", \"domain\": [0.0, 1.0], \"title\": {\"text\": \"price\"}, \"type\": \"log\"}, \"yaxis\": {\"anchor\": \"x\", \"domain\": [0.0, 1.0], \"title\": {\"text\": \"cut\"}}},\n",
       "                        {\"responsive\": true}\n",
       "                    ).then(function(){\n",
       "                            \n",
       "var gd = document.getElementById('fca68339-b1a2-4bcd-af68-6ade562d62cb');\n",
       "var x = new MutationObserver(function (mutations, observer) {{\n",
       "        var display = window.getComputedStyle(gd).display;\n",
       "        if (!display || display === 'none') {{\n",
       "            console.log([gd, 'removed!']);\n",
       "            Plotly.purge(gd);\n",
       "            observer.disconnect();\n",
       "        }}\n",
       "}});\n",
       "\n",
       "// Listen for the removal of the full notebook cells\n",
       "var notebookContainer = gd.closest('#notebook-container');\n",
       "if (notebookContainer) {{\n",
       "    x.observe(notebookContainer, {childList: true});\n",
       "}}\n",
       "\n",
       "// Listen for the clearing of the current output cell\n",
       "var outputEl = gd.closest('.output');\n",
       "if (outputEl) {{\n",
       "    x.observe(outputEl, {childList: true});\n",
       "}}\n",
       "\n",
       "                        })\n",
       "                };\n",
       "                });\n",
       "            </script>\n",
       "        </div>"
      ]
     },
     "metadata": {},
     "output_type": "display_data"
    }
   ],
   "source": [
    "fig = px.scatter(diamonds.query(\"carat>3\"), x=\"price\", y=\"cut\", size=\"table\", color=\"color\",\n",
    "           hover_name=\"Potential Client\", log_x=True, size_max=60)\n",
    "fig.show()"
   ]
  },
  {
   "cell_type": "code",
   "execution_count": null,
   "metadata": {},
   "outputs": [],
   "source": [
    "from IPython.display import HTML\n",
    "HTML('''<script>\n",
    "code_show=true; \n",
    "function code_toggle() {\n",
    " if (code_show){\n",
    " $('div.input').hide();\n",
    " } else {\n",
    " $('div.input').show();\n",
    " }\n",
    " code_show = !code_show\n",
    "} \n",
    "$( document ).ready(code_toggle);\n",
    "</script>\n",
    "The raw code for this IPython notebook is by default hidden for easier reading.\n",
    "To toggle on/off the raw code, click <a href=\"javascript:code_toggle()\">here</a>.''')"
   ]
  }
 ],
 "metadata": {
  "kernelspec": {
   "display_name": "Python [conda env:Ironhack] *",
   "language": "python",
   "name": "conda-env-Ironhack-py"
  },
  "language_info": {
   "codemirror_mode": {
    "name": "ipython",
    "version": 3
   },
   "file_extension": ".py",
   "mimetype": "text/x-python",
   "name": "python",
   "nbconvert_exporter": "python",
   "pygments_lexer": "ipython3",
   "version": "3.7.3"
  }
 },
 "nbformat": 4,
 "nbformat_minor": 4
}
