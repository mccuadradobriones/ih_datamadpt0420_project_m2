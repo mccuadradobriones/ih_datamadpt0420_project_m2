{
 "cells": [
  {
   "cell_type": "markdown",
   "metadata": {},
   "source": [
    "# Libraries\n",
    "\n",
    "### Data Handling\n",
    "- Pandas\n",
    "- Regex\n",
    "- Numpy\n",
    "\n",
    "### Data Enriching\n",
    "- Requests\n",
    "- BeautifulSoup\n",
    "\n",
    "### Data Exploration\n",
    "- Missingno\n",
    "\n",
    "### Data Visualization\n",
    "- Matplotlib\n",
    "- Seaborn\n",
    "- Plotly"
   ]
  },
  {
   "cell_type": "markdown",
   "metadata": {},
   "source": [
    "# Starting point"
   ]
  },
  {
   "cell_type": "markdown",
   "metadata": {},
   "source": [
    "# Diamonds 4Cs\n",
    "\n",
    "- **Cut** is determined by how a diamond’s facets interact with light. It is influenced by three factors:\n",
    "    - Precision of cut: How the size and angles relate to the different parts of the stone\n",
    "    - Symmetry: How precisely the various facets of a diamond align and intersect\n",
    "    - Polish: The details and placement of the facet shapes as well as the outside finish of the diamond\n",
    "    \n",
    "    According to those parameters, the Gemological Institue of America ([GIA](https://4cs.gia.edu/en-us/diamond-cut/)) labels each diamonds in cut quality increasing order into Poor, Fair, Good, Very Good, and Excellent. In the case of our sample, we are going to consider Premium and Ideal as to levels of excellency, being Ideal the highest one\n",
    "    \n",
    "    \n",
    "- **Clarity** is a measure of the purity and rarity of the stone graded by the visibility of these characteristics under 10-power magnification. A stone is graded as flawless (FL) if, under 10-power magnification, no inclusions (internal flaws) and no blemishes (external imperfections) are visible. Regarding this measure, we could rank diamonds by \n",
    "    - IF: diamonds are Internally Flawless,\n",
    "    - VVS1 VVS2: Very, Very Slightly Included\n",
    "    - VS1 VS2: Very Slightly Included\n",
    "    - SI1 SI2:Slightly Included\n",
    "    - I1 I2 I3: Imperfect\n",
    "    \n",
    "\n",
    "- **Color** refers to the natural tint inherent in white diamonds, being the most appreciated ones the colorless \n",
    "    - DEF: Colorless\n",
    "    - GHIJ: Near colorless\n",
    "    - KLM: Faint yellow\n",
    "    - NOPQR: Very light yellow\n",
    "    - STUVWXYX: Light yellow\n",
    "    \n",
    "    \n",
    "- **Carat** denotes the weight of a diamond. One carat equals .20 grams.  it is important to note that carat weight does not necessarily determine size. The majority of diamonds used in fine jewelry weigh one carat or less\n",
    "\n",
    "\n",
    "# Diamonds measures\n",
    "\n",
    "![](diamondmeasures.png)\n",
    "\n",
    "- **Depth** refers to the diamond, measured from the Culet to the table, divided by its average Girdle Diameter. It gives a glimpse of how proportionated the diamond is\n",
    "\n",
    "    - A diamond with a lower depth percentage usually appears larger due to its increased width, but often creates a dark appearance as the diamond doesn’t reflect light as well\n",
    "    - A diamond with too high of a depth percentage loses light out the bottom of the diamond, making it appear dull\n",
    "    \n",
    "    Depth = height/width\n",
    "\n",
    "\n",
    "- **Table** : The Width of the Diamond's Table expressed as a Percentage of its Average Diameter\n",
    "\n",
    "     - If the table percentage is too low, light gets trapped inside the diamond and leaks out the sides of the diamond (instead of reflecting back through the table). \n",
    "     - If the table percentage is too high, light doesn’t reflect off of the diamond’s crown angles and facets leaving the diamond looking dull. \n",
    "     \n",
    "     Table = table facet width/width\n",
    "\n",
    "\n",
    "- **x** : Length of the Diamond in mm\n",
    "\n",
    "\n",
    "- **y** : Width of the Diamond in mm\n",
    "\n",
    "\n",
    "- **z**: Height of the Diamond in mm\n",
    "\n",
    "\n",
    "- **Price** : the Price of the Diamond\n",
    "\n",
    "\n",
    "## Let's see our data analysis & conclusions!\n",
    "\n",
    "![Let see our diamonds conclusions](maxresdefault.jpg)"
   ]
  },
  {
   "cell_type": "code",
   "execution_count": 1,
   "metadata": {},
   "outputs": [],
   "source": [
    "import pandas as pd\n",
    "import numpy as np\n",
    "\n",
    "# Data Visualization\n",
    "import matplotlib.pyplot as plt\n",
    "import seaborn as sns\n",
    "from IPython.display import set_matplotlib_formats\n",
    "import cufflinks as cf\n",
    "import plotly.express as px\n",
    "import matplotlib.gridspec as gridspec\n",
    "import plotly.graph_objects as go\n",
    "import plotly.figure_factory as ff\n",
    "\n",
    "diamonds=pd.read_csv(r'/home/carmencuadrado/Ironhack/ih_datamadpt0420_project_m2/diamonds_result.csv')"
   ]
  },
  {
   "cell_type": "markdown",
   "metadata": {},
   "source": [
    "# Data Analysis\n",
    "\n",
    "\n",
    "## Data Exploration\n",
    "\n",
    "Our primarely exploratory analysis raised our awareness of\n",
    "\n",
    "- **The small data of our dataframe**, which did have volume - over 40k entries - but not variety - only 10 data attributes - and variability, as the data was static, integrated and consistent\n",
    "- **The dataframe cleaning needs**, as there were measures taking 0 as a value\n",
    "- **The dataframe information possibilities** as it offered key diamonds' information which would led us to make inferences and draw business conclusions\n",
    "\n",
    "\n",
    "## Variables-price correlation\n",
    "\n",
    "Representing the correlation between the different variables and price, we deducted that\n",
    "\n",
    "- **Price-carat correlation was the strongest one** - 0.92, even though diamonds with low carat could reach high values and vice versa. Therefore, we further explore the relation among variables an realised\n",
    "- **Price-color/clarity correlation was relevant** as they were responsible for the price-carat relation distortion\n",
    "- **Price-cut correlation was negligible**. Price slightly increases whenever the cut quality does, however, this trend it broken in extreme cut classes - poor and excellent \n",
    "- **Price-depth/table correlation was irrelevant** as depth and table have no price influence\n",
    "\n",
    "\n",
    "## Data Manipulation\n",
    "\n",
    "Digging into the dataframe, we considered that it could be interesting to find out which\n",
    "\n",
    "- **Diamonds shapes were present in the dataframe**. We relied on diamonds.pro guides on diamonds proportions. Whereas, we found out that price is higher for fancy shapes than for traditional ones, consequently, fancy-shaped diamonds should be at the center of the commercial strategy of these diamonds\n",
    "- **Potential Clients could be willing to buy this diamonds**, making clear which ones are our priority\n",
    "    - #1 Tiffany & Co for the potential amount sold at a profitable level\n",
    "    - #2 Cartier and Harry Winston as these are the most profitable clients\n",
    "    - #3 Other brands, as diamonds with potential to be sold to other brands made up de greatest part of the diamodns sample\n",
    "    - #4 Piaget, as without making an offer in first place Cartier and Harry Winston we can not define the strategy for Piaget, who would be our second option for selling the rest of the top quality diamonds\n",
    "    \n",
    "- **Ranking could fit better to this sample regarding the quality of the diamonds**. We observe that diamonds do not always have the price their quality suggest, for that purpose, we make a quality and a price ranking, which do not match at the moment\n",
    "\n",
    "\n",
    "# Conclusions"
   ]
  },
  {
   "cell_type": "code",
   "execution_count": 2,
   "metadata": {},
   "outputs": [
    {
     "data": {
      "text/plain": [
       "Index(['index', 'carat', 'cut', 'color', 'clarity', 'depth', 'table', 'price',\n",
       "       'carat_scale', 'L/Wratio', 'shape', 'Potential Client', 'volume'],\n",
       "      dtype='object')"
      ]
     },
     "execution_count": 2,
     "metadata": {},
     "output_type": "execute_result"
    }
   ],
   "source": [
    "diamonds.columns"
   ]
  },
  {
   "cell_type": "markdown",
   "metadata": {},
   "source": [
    "We have seen the direct relation between cut and price, also between clarity and price, that sometimes is broken by a great or dreadful cut. Contrariwise, color quality seems to be negatively related with price as the average price paid for avery type of cut is higher when the color is yellow-like\n"
   ]
  },
  {
   "cell_type": "code",
   "execution_count": 4,
   "metadata": {},
   "outputs": [
    {
     "data": {
      "application/vnd.plotly.v1+json": {
       "config": {
        "plotlyServerURL": "https://plot.ly"
       },
       "data": [
        {
         "hovertemplate": "<b>%{hovertext}</b><br><br>color=J<br>price=%{x}<br>cut=%{y}<br>table=%{marker.size}<extra></extra>",
         "hovertext": [
          "Other",
          "Other",
          "Other",
          "Other",
          "Other",
          "Other",
          "Other"
         ],
         "legendgroup": "J",
         "marker": {
          "color": "#636efa",
          "size": [
           58,
           59,
           58,
           60,
           58,
           62,
           57
          ],
          "sizemode": "area",
          "sizeref": 0.017777777777777778,
          "symbol": "circle"
         },
         "mode": "markers",
         "name": "J",
         "orientation": "h",
         "showlegend": true,
         "type": "scatter",
         "x": [
          18710,
          18701,
          18531,
          16538,
          16037,
          15223,
          9823
         ],
         "xaxis": "x",
         "y": [
          "Premium",
          "Premium",
          "Fair",
          "Ideal",
          "Ideal",
          "Premium",
          "Fair"
         ],
         "yaxis": "y"
        },
        {
         "hovertemplate": "<b>%{hovertext}</b><br><br>color=H<br>price=%{x}<br>cut=%{y}<br>table=%{marker.size}<extra></extra>",
         "hovertext": [
          "Other",
          "Other",
          "Other",
          "Other",
          "Other"
         ],
         "legendgroup": "H",
         "marker": {
          "color": "#EF553B",
          "size": [
           64,
           61,
           57,
           58,
           62
          ],
          "sizemode": "area",
          "sizeref": 0.017777777777777778,
          "symbol": "circle"
         },
         "mode": "markers",
         "name": "H",
         "orientation": "h",
         "showlegend": true,
         "type": "scatter",
         "x": [
          18593,
          17329,
          12587,
          12300,
          10761
         ],
         "xaxis": "x",
         "y": [
          "Good",
          "Fair",
          "Ideal",
          "Premium",
          "Fair"
         ],
         "yaxis": "y"
        },
        {
         "hovertemplate": "<b>%{hovertext}</b><br><br>color=I<br>price=%{x}<br>cut=%{y}<br>table=%{marker.size}<extra></extra>",
         "hovertext": [
          "Other",
          "Other",
          "Other",
          "Other",
          "Other",
          "Other",
          "Other",
          "Other",
          "Other",
          "Other"
         ],
         "legendgroup": "I",
         "marker": {
          "color": "#00cc96",
          "size": [
           60,
           60,
           59,
           56,
           60,
           58,
           61,
           55,
           56,
           58
          ],
          "sizemode": "area",
          "sizeref": 0.017777777777777778,
          "symbol": "circle"
         },
         "mode": "markers",
         "name": "I",
         "orientation": "h",
         "showlegend": true,
         "type": "scatter",
         "x": [
          18559,
          18242,
          18242,
          18242,
          18242,
          15984,
          15223,
          12545,
          10577,
          8040
         ],
         "xaxis": "x",
         "y": [
          "Premium",
          "Good",
          "Premium",
          "Fair",
          "Good",
          "Very Good",
          "Premium",
          "Ideal",
          "Fair",
          "Premium"
         ],
         "yaxis": "y"
        },
        {
         "hovertemplate": "<b>%{hovertext}</b><br><br>color=D<br>price=%{x}<br>cut=%{y}<br>table=%{marker.size}<extra></extra>",
         "hovertext": [
          "Other"
         ],
         "legendgroup": "D",
         "marker": {
          "color": "#ab63fa",
          "size": [
           52
          ],
          "sizemode": "area",
          "sizeref": 0.017777777777777778,
          "symbol": "circle"
         },
         "mode": "markers",
         "name": "D",
         "orientation": "h",
         "showlegend": true,
         "type": "scatter",
         "x": [
          15964
         ],
         "xaxis": "x",
         "y": [
          "Fair"
         ],
         "yaxis": "y"
        },
        {
         "hovertemplate": "<b>%{hovertext}</b><br><br>color=G<br>price=%{x}<br>cut=%{y}<br>table=%{marker.size}<extra></extra>",
         "hovertext": [
          "Other"
         ],
         "legendgroup": "G",
         "marker": {
          "color": "#FFA15A",
          "size": [
           58
          ],
          "sizemode": "area",
          "sizeref": 0.017777777777777778,
          "symbol": "circle"
         },
         "mode": "markers",
         "name": "G",
         "orientation": "h",
         "showlegend": true,
         "type": "scatter",
         "x": [
          14220
         ],
         "xaxis": "x",
         "y": [
          "Premium"
         ],
         "yaxis": "y"
        },
        {
         "hovertemplate": "<b>%{hovertext}</b><br><br>color=E<br>price=%{x}<br>cut=%{y}<br>table=%{marker.size}<extra></extra>",
         "hovertext": [
          "Other"
         ],
         "legendgroup": "E",
         "marker": {
          "color": "#19d3f3",
          "size": [
           58
          ],
          "sizemode": "area",
          "sizeref": 0.017777777777777778,
          "symbol": "circle"
         },
         "mode": "markers",
         "name": "E",
         "orientation": "h",
         "showlegend": true,
         "type": "scatter",
         "x": [
          10453
         ],
         "xaxis": "x",
         "y": [
          "Premium"
         ],
         "yaxis": "y"
        },
        {
         "hovertemplate": "<b>%{hovertext}</b><br><br>color=F<br>price=%{x}<br>cut=%{y}<br>table=%{marker.size}<extra></extra>",
         "hovertext": [
          "Other"
         ],
         "legendgroup": "F",
         "marker": {
          "color": "#FF6692",
          "size": [
           56
          ],
          "sizemode": "area",
          "sizeref": 0.017777777777777778,
          "symbol": "circle"
         },
         "mode": "markers",
         "name": "F",
         "orientation": "h",
         "showlegend": true,
         "type": "scatter",
         "x": [
          9925
         ],
         "xaxis": "x",
         "y": [
          "Premium"
         ],
         "yaxis": "y"
        }
       ],
       "layout": {
        "legend": {
         "itemsizing": "constant",
         "title": {
          "text": "color"
         },
         "tracegroupgap": 0
        },
        "margin": {
         "t": 60
        },
        "template": {
         "data": {
          "bar": [
           {
            "error_x": {
             "color": "#2a3f5f"
            },
            "error_y": {
             "color": "#2a3f5f"
            },
            "marker": {
             "line": {
              "color": "#E5ECF6",
              "width": 0.5
             }
            },
            "type": "bar"
           }
          ],
          "barpolar": [
           {
            "marker": {
             "line": {
              "color": "#E5ECF6",
              "width": 0.5
             }
            },
            "type": "barpolar"
           }
          ],
          "carpet": [
           {
            "aaxis": {
             "endlinecolor": "#2a3f5f",
             "gridcolor": "white",
             "linecolor": "white",
             "minorgridcolor": "white",
             "startlinecolor": "#2a3f5f"
            },
            "baxis": {
             "endlinecolor": "#2a3f5f",
             "gridcolor": "white",
             "linecolor": "white",
             "minorgridcolor": "white",
             "startlinecolor": "#2a3f5f"
            },
            "type": "carpet"
           }
          ],
          "choropleth": [
           {
            "colorbar": {
             "outlinewidth": 0,
             "ticks": ""
            },
            "type": "choropleth"
           }
          ],
          "contour": [
           {
            "colorbar": {
             "outlinewidth": 0,
             "ticks": ""
            },
            "colorscale": [
             [
              0,
              "#0d0887"
             ],
             [
              0.1111111111111111,
              "#46039f"
             ],
             [
              0.2222222222222222,
              "#7201a8"
             ],
             [
              0.3333333333333333,
              "#9c179e"
             ],
             [
              0.4444444444444444,
              "#bd3786"
             ],
             [
              0.5555555555555556,
              "#d8576b"
             ],
             [
              0.6666666666666666,
              "#ed7953"
             ],
             [
              0.7777777777777778,
              "#fb9f3a"
             ],
             [
              0.8888888888888888,
              "#fdca26"
             ],
             [
              1,
              "#f0f921"
             ]
            ],
            "type": "contour"
           }
          ],
          "contourcarpet": [
           {
            "colorbar": {
             "outlinewidth": 0,
             "ticks": ""
            },
            "type": "contourcarpet"
           }
          ],
          "heatmap": [
           {
            "colorbar": {
             "outlinewidth": 0,
             "ticks": ""
            },
            "colorscale": [
             [
              0,
              "#0d0887"
             ],
             [
              0.1111111111111111,
              "#46039f"
             ],
             [
              0.2222222222222222,
              "#7201a8"
             ],
             [
              0.3333333333333333,
              "#9c179e"
             ],
             [
              0.4444444444444444,
              "#bd3786"
             ],
             [
              0.5555555555555556,
              "#d8576b"
             ],
             [
              0.6666666666666666,
              "#ed7953"
             ],
             [
              0.7777777777777778,
              "#fb9f3a"
             ],
             [
              0.8888888888888888,
              "#fdca26"
             ],
             [
              1,
              "#f0f921"
             ]
            ],
            "type": "heatmap"
           }
          ],
          "heatmapgl": [
           {
            "colorbar": {
             "outlinewidth": 0,
             "ticks": ""
            },
            "colorscale": [
             [
              0,
              "#0d0887"
             ],
             [
              0.1111111111111111,
              "#46039f"
             ],
             [
              0.2222222222222222,
              "#7201a8"
             ],
             [
              0.3333333333333333,
              "#9c179e"
             ],
             [
              0.4444444444444444,
              "#bd3786"
             ],
             [
              0.5555555555555556,
              "#d8576b"
             ],
             [
              0.6666666666666666,
              "#ed7953"
             ],
             [
              0.7777777777777778,
              "#fb9f3a"
             ],
             [
              0.8888888888888888,
              "#fdca26"
             ],
             [
              1,
              "#f0f921"
             ]
            ],
            "type": "heatmapgl"
           }
          ],
          "histogram": [
           {
            "marker": {
             "colorbar": {
              "outlinewidth": 0,
              "ticks": ""
             }
            },
            "type": "histogram"
           }
          ],
          "histogram2d": [
           {
            "colorbar": {
             "outlinewidth": 0,
             "ticks": ""
            },
            "colorscale": [
             [
              0,
              "#0d0887"
             ],
             [
              0.1111111111111111,
              "#46039f"
             ],
             [
              0.2222222222222222,
              "#7201a8"
             ],
             [
              0.3333333333333333,
              "#9c179e"
             ],
             [
              0.4444444444444444,
              "#bd3786"
             ],
             [
              0.5555555555555556,
              "#d8576b"
             ],
             [
              0.6666666666666666,
              "#ed7953"
             ],
             [
              0.7777777777777778,
              "#fb9f3a"
             ],
             [
              0.8888888888888888,
              "#fdca26"
             ],
             [
              1,
              "#f0f921"
             ]
            ],
            "type": "histogram2d"
           }
          ],
          "histogram2dcontour": [
           {
            "colorbar": {
             "outlinewidth": 0,
             "ticks": ""
            },
            "colorscale": [
             [
              0,
              "#0d0887"
             ],
             [
              0.1111111111111111,
              "#46039f"
             ],
             [
              0.2222222222222222,
              "#7201a8"
             ],
             [
              0.3333333333333333,
              "#9c179e"
             ],
             [
              0.4444444444444444,
              "#bd3786"
             ],
             [
              0.5555555555555556,
              "#d8576b"
             ],
             [
              0.6666666666666666,
              "#ed7953"
             ],
             [
              0.7777777777777778,
              "#fb9f3a"
             ],
             [
              0.8888888888888888,
              "#fdca26"
             ],
             [
              1,
              "#f0f921"
             ]
            ],
            "type": "histogram2dcontour"
           }
          ],
          "mesh3d": [
           {
            "colorbar": {
             "outlinewidth": 0,
             "ticks": ""
            },
            "type": "mesh3d"
           }
          ],
          "parcoords": [
           {
            "line": {
             "colorbar": {
              "outlinewidth": 0,
              "ticks": ""
             }
            },
            "type": "parcoords"
           }
          ],
          "pie": [
           {
            "automargin": true,
            "type": "pie"
           }
          ],
          "scatter": [
           {
            "marker": {
             "colorbar": {
              "outlinewidth": 0,
              "ticks": ""
             }
            },
            "type": "scatter"
           }
          ],
          "scatter3d": [
           {
            "line": {
             "colorbar": {
              "outlinewidth": 0,
              "ticks": ""
             }
            },
            "marker": {
             "colorbar": {
              "outlinewidth": 0,
              "ticks": ""
             }
            },
            "type": "scatter3d"
           }
          ],
          "scattercarpet": [
           {
            "marker": {
             "colorbar": {
              "outlinewidth": 0,
              "ticks": ""
             }
            },
            "type": "scattercarpet"
           }
          ],
          "scattergeo": [
           {
            "marker": {
             "colorbar": {
              "outlinewidth": 0,
              "ticks": ""
             }
            },
            "type": "scattergeo"
           }
          ],
          "scattergl": [
           {
            "marker": {
             "colorbar": {
              "outlinewidth": 0,
              "ticks": ""
             }
            },
            "type": "scattergl"
           }
          ],
          "scattermapbox": [
           {
            "marker": {
             "colorbar": {
              "outlinewidth": 0,
              "ticks": ""
             }
            },
            "type": "scattermapbox"
           }
          ],
          "scatterpolar": [
           {
            "marker": {
             "colorbar": {
              "outlinewidth": 0,
              "ticks": ""
             }
            },
            "type": "scatterpolar"
           }
          ],
          "scatterpolargl": [
           {
            "marker": {
             "colorbar": {
              "outlinewidth": 0,
              "ticks": ""
             }
            },
            "type": "scatterpolargl"
           }
          ],
          "scatterternary": [
           {
            "marker": {
             "colorbar": {
              "outlinewidth": 0,
              "ticks": ""
             }
            },
            "type": "scatterternary"
           }
          ],
          "surface": [
           {
            "colorbar": {
             "outlinewidth": 0,
             "ticks": ""
            },
            "colorscale": [
             [
              0,
              "#0d0887"
             ],
             [
              0.1111111111111111,
              "#46039f"
             ],
             [
              0.2222222222222222,
              "#7201a8"
             ],
             [
              0.3333333333333333,
              "#9c179e"
             ],
             [
              0.4444444444444444,
              "#bd3786"
             ],
             [
              0.5555555555555556,
              "#d8576b"
             ],
             [
              0.6666666666666666,
              "#ed7953"
             ],
             [
              0.7777777777777778,
              "#fb9f3a"
             ],
             [
              0.8888888888888888,
              "#fdca26"
             ],
             [
              1,
              "#f0f921"
             ]
            ],
            "type": "surface"
           }
          ],
          "table": [
           {
            "cells": {
             "fill": {
              "color": "#EBF0F8"
             },
             "line": {
              "color": "white"
             }
            },
            "header": {
             "fill": {
              "color": "#C8D4E3"
             },
             "line": {
              "color": "white"
             }
            },
            "type": "table"
           }
          ]
         },
         "layout": {
          "annotationdefaults": {
           "arrowcolor": "#2a3f5f",
           "arrowhead": 0,
           "arrowwidth": 1
          },
          "coloraxis": {
           "colorbar": {
            "outlinewidth": 0,
            "ticks": ""
           }
          },
          "colorscale": {
           "diverging": [
            [
             0,
             "#8e0152"
            ],
            [
             0.1,
             "#c51b7d"
            ],
            [
             0.2,
             "#de77ae"
            ],
            [
             0.3,
             "#f1b6da"
            ],
            [
             0.4,
             "#fde0ef"
            ],
            [
             0.5,
             "#f7f7f7"
            ],
            [
             0.6,
             "#e6f5d0"
            ],
            [
             0.7,
             "#b8e186"
            ],
            [
             0.8,
             "#7fbc41"
            ],
            [
             0.9,
             "#4d9221"
            ],
            [
             1,
             "#276419"
            ]
           ],
           "sequential": [
            [
             0,
             "#0d0887"
            ],
            [
             0.1111111111111111,
             "#46039f"
            ],
            [
             0.2222222222222222,
             "#7201a8"
            ],
            [
             0.3333333333333333,
             "#9c179e"
            ],
            [
             0.4444444444444444,
             "#bd3786"
            ],
            [
             0.5555555555555556,
             "#d8576b"
            ],
            [
             0.6666666666666666,
             "#ed7953"
            ],
            [
             0.7777777777777778,
             "#fb9f3a"
            ],
            [
             0.8888888888888888,
             "#fdca26"
            ],
            [
             1,
             "#f0f921"
            ]
           ],
           "sequentialminus": [
            [
             0,
             "#0d0887"
            ],
            [
             0.1111111111111111,
             "#46039f"
            ],
            [
             0.2222222222222222,
             "#7201a8"
            ],
            [
             0.3333333333333333,
             "#9c179e"
            ],
            [
             0.4444444444444444,
             "#bd3786"
            ],
            [
             0.5555555555555556,
             "#d8576b"
            ],
            [
             0.6666666666666666,
             "#ed7953"
            ],
            [
             0.7777777777777778,
             "#fb9f3a"
            ],
            [
             0.8888888888888888,
             "#fdca26"
            ],
            [
             1,
             "#f0f921"
            ]
           ]
          },
          "colorway": [
           "#636efa",
           "#EF553B",
           "#00cc96",
           "#ab63fa",
           "#FFA15A",
           "#19d3f3",
           "#FF6692",
           "#B6E880",
           "#FF97FF",
           "#FECB52"
          ],
          "font": {
           "color": "#2a3f5f"
          },
          "geo": {
           "bgcolor": "white",
           "lakecolor": "white",
           "landcolor": "#E5ECF6",
           "showlakes": true,
           "showland": true,
           "subunitcolor": "white"
          },
          "hoverlabel": {
           "align": "left"
          },
          "hovermode": "closest",
          "mapbox": {
           "style": "light"
          },
          "paper_bgcolor": "white",
          "plot_bgcolor": "#E5ECF6",
          "polar": {
           "angularaxis": {
            "gridcolor": "white",
            "linecolor": "white",
            "ticks": ""
           },
           "bgcolor": "#E5ECF6",
           "radialaxis": {
            "gridcolor": "white",
            "linecolor": "white",
            "ticks": ""
           }
          },
          "scene": {
           "xaxis": {
            "backgroundcolor": "#E5ECF6",
            "gridcolor": "white",
            "gridwidth": 2,
            "linecolor": "white",
            "showbackground": true,
            "ticks": "",
            "zerolinecolor": "white"
           },
           "yaxis": {
            "backgroundcolor": "#E5ECF6",
            "gridcolor": "white",
            "gridwidth": 2,
            "linecolor": "white",
            "showbackground": true,
            "ticks": "",
            "zerolinecolor": "white"
           },
           "zaxis": {
            "backgroundcolor": "#E5ECF6",
            "gridcolor": "white",
            "gridwidth": 2,
            "linecolor": "white",
            "showbackground": true,
            "ticks": "",
            "zerolinecolor": "white"
           }
          },
          "shapedefaults": {
           "line": {
            "color": "#2a3f5f"
           }
          },
          "ternary": {
           "aaxis": {
            "gridcolor": "white",
            "linecolor": "white",
            "ticks": ""
           },
           "baxis": {
            "gridcolor": "white",
            "linecolor": "white",
            "ticks": ""
           },
           "bgcolor": "#E5ECF6",
           "caxis": {
            "gridcolor": "white",
            "linecolor": "white",
            "ticks": ""
           }
          },
          "title": {
           "x": 0.05
          },
          "xaxis": {
           "automargin": true,
           "gridcolor": "white",
           "linecolor": "white",
           "ticks": "",
           "title": {
            "standoff": 15
           },
           "zerolinecolor": "white",
           "zerolinewidth": 2
          },
          "yaxis": {
           "automargin": true,
           "gridcolor": "white",
           "linecolor": "white",
           "ticks": "",
           "title": {
            "standoff": 15
           },
           "zerolinecolor": "white",
           "zerolinewidth": 2
          }
         }
        },
        "xaxis": {
         "anchor": "y",
         "domain": [
          0,
          1
         ],
         "title": {
          "text": "price"
         },
         "type": "log"
        },
        "yaxis": {
         "anchor": "x",
         "domain": [
          0,
          1
         ],
         "title": {
          "text": "cut"
         }
        }
       }
      },
      "text/html": [
       "<div>\n",
       "        \n",
       "        \n",
       "            <div id=\"0015ed1a-6b3c-4492-9f12-b13b36977c3b\" class=\"plotly-graph-div\" style=\"height:525px; width:100%;\"></div>\n",
       "            <script type=\"text/javascript\">\n",
       "                require([\"plotly\"], function(Plotly) {\n",
       "                    window.PLOTLYENV=window.PLOTLYENV || {};\n",
       "                    \n",
       "                if (document.getElementById(\"0015ed1a-6b3c-4492-9f12-b13b36977c3b\")) {\n",
       "                    Plotly.newPlot(\n",
       "                        '0015ed1a-6b3c-4492-9f12-b13b36977c3b',\n",
       "                        [{\"hovertemplate\": \"<b>%{hovertext}</b><br><br>color=J<br>price=%{x}<br>cut=%{y}<br>table=%{marker.size}<extra></extra>\", \"hovertext\": [\"Other\", \"Other\", \"Other\", \"Other\", \"Other\", \"Other\", \"Other\"], \"legendgroup\": \"J\", \"marker\": {\"color\": \"#636efa\", \"size\": [58.0, 59.0, 58.0, 60.0, 58.0, 62.0, 57.0], \"sizemode\": \"area\", \"sizeref\": 0.017777777777777778, \"symbol\": \"circle\"}, \"mode\": \"markers\", \"name\": \"J\", \"orientation\": \"h\", \"showlegend\": true, \"type\": \"scatter\", \"x\": [18710, 18701, 18531, 16538, 16037, 15223, 9823], \"xaxis\": \"x\", \"y\": [\"Premium\", \"Premium\", \"Fair\", \"Ideal\", \"Ideal\", \"Premium\", \"Fair\"], \"yaxis\": \"y\"}, {\"hovertemplate\": \"<b>%{hovertext}</b><br><br>color=H<br>price=%{x}<br>cut=%{y}<br>table=%{marker.size}<extra></extra>\", \"hovertext\": [\"Other\", \"Other\", \"Other\", \"Other\", \"Other\"], \"legendgroup\": \"H\", \"marker\": {\"color\": \"#EF553B\", \"size\": [64.0, 61.0, 57.0, 58.0, 62.0], \"sizemode\": \"area\", \"sizeref\": 0.017777777777777778, \"symbol\": \"circle\"}, \"mode\": \"markers\", \"name\": \"H\", \"orientation\": \"h\", \"showlegend\": true, \"type\": \"scatter\", \"x\": [18593, 17329, 12587, 12300, 10761], \"xaxis\": \"x\", \"y\": [\"Good\", \"Fair\", \"Ideal\", \"Premium\", \"Fair\"], \"yaxis\": \"y\"}, {\"hovertemplate\": \"<b>%{hovertext}</b><br><br>color=I<br>price=%{x}<br>cut=%{y}<br>table=%{marker.size}<extra></extra>\", \"hovertext\": [\"Other\", \"Other\", \"Other\", \"Other\", \"Other\", \"Other\", \"Other\", \"Other\", \"Other\", \"Other\"], \"legendgroup\": \"I\", \"marker\": {\"color\": \"#00cc96\", \"size\": [60.0, 60.0, 59.0, 56.0, 60.0, 58.0, 61.0, 55.0, 56.0, 58.0], \"sizemode\": \"area\", \"sizeref\": 0.017777777777777778, \"symbol\": \"circle\"}, \"mode\": \"markers\", \"name\": \"I\", \"orientation\": \"h\", \"showlegend\": true, \"type\": \"scatter\", \"x\": [18559, 18242, 18242, 18242, 18242, 15984, 15223, 12545, 10577, 8040], \"xaxis\": \"x\", \"y\": [\"Premium\", \"Good\", \"Premium\", \"Fair\", \"Good\", \"Very Good\", \"Premium\", \"Ideal\", \"Fair\", \"Premium\"], \"yaxis\": \"y\"}, {\"hovertemplate\": \"<b>%{hovertext}</b><br><br>color=D<br>price=%{x}<br>cut=%{y}<br>table=%{marker.size}<extra></extra>\", \"hovertext\": [\"Other\"], \"legendgroup\": \"D\", \"marker\": {\"color\": \"#ab63fa\", \"size\": [52.0], \"sizemode\": \"area\", \"sizeref\": 0.017777777777777778, \"symbol\": \"circle\"}, \"mode\": \"markers\", \"name\": \"D\", \"orientation\": \"h\", \"showlegend\": true, \"type\": \"scatter\", \"x\": [15964], \"xaxis\": \"x\", \"y\": [\"Fair\"], \"yaxis\": \"y\"}, {\"hovertemplate\": \"<b>%{hovertext}</b><br><br>color=G<br>price=%{x}<br>cut=%{y}<br>table=%{marker.size}<extra></extra>\", \"hovertext\": [\"Other\"], \"legendgroup\": \"G\", \"marker\": {\"color\": \"#FFA15A\", \"size\": [58.0], \"sizemode\": \"area\", \"sizeref\": 0.017777777777777778, \"symbol\": \"circle\"}, \"mode\": \"markers\", \"name\": \"G\", \"orientation\": \"h\", \"showlegend\": true, \"type\": \"scatter\", \"x\": [14220], \"xaxis\": \"x\", \"y\": [\"Premium\"], \"yaxis\": \"y\"}, {\"hovertemplate\": \"<b>%{hovertext}</b><br><br>color=E<br>price=%{x}<br>cut=%{y}<br>table=%{marker.size}<extra></extra>\", \"hovertext\": [\"Other\"], \"legendgroup\": \"E\", \"marker\": {\"color\": \"#19d3f3\", \"size\": [58.0], \"sizemode\": \"area\", \"sizeref\": 0.017777777777777778, \"symbol\": \"circle\"}, \"mode\": \"markers\", \"name\": \"E\", \"orientation\": \"h\", \"showlegend\": true, \"type\": \"scatter\", \"x\": [10453], \"xaxis\": \"x\", \"y\": [\"Premium\"], \"yaxis\": \"y\"}, {\"hovertemplate\": \"<b>%{hovertext}</b><br><br>color=F<br>price=%{x}<br>cut=%{y}<br>table=%{marker.size}<extra></extra>\", \"hovertext\": [\"Other\"], \"legendgroup\": \"F\", \"marker\": {\"color\": \"#FF6692\", \"size\": [56.0], \"sizemode\": \"area\", \"sizeref\": 0.017777777777777778, \"symbol\": \"circle\"}, \"mode\": \"markers\", \"name\": \"F\", \"orientation\": \"h\", \"showlegend\": true, \"type\": \"scatter\", \"x\": [9925], \"xaxis\": \"x\", \"y\": [\"Premium\"], \"yaxis\": \"y\"}],\n",
       "                        {\"legend\": {\"itemsizing\": \"constant\", \"title\": {\"text\": \"color\"}, \"tracegroupgap\": 0}, \"margin\": {\"t\": 60}, \"template\": {\"data\": {\"bar\": [{\"error_x\": {\"color\": \"#2a3f5f\"}, \"error_y\": {\"color\": \"#2a3f5f\"}, \"marker\": {\"line\": {\"color\": \"#E5ECF6\", \"width\": 0.5}}, \"type\": \"bar\"}], \"barpolar\": [{\"marker\": {\"line\": {\"color\": \"#E5ECF6\", \"width\": 0.5}}, \"type\": \"barpolar\"}], \"carpet\": [{\"aaxis\": {\"endlinecolor\": \"#2a3f5f\", \"gridcolor\": \"white\", \"linecolor\": \"white\", \"minorgridcolor\": \"white\", \"startlinecolor\": \"#2a3f5f\"}, \"baxis\": {\"endlinecolor\": \"#2a3f5f\", \"gridcolor\": \"white\", \"linecolor\": \"white\", \"minorgridcolor\": \"white\", \"startlinecolor\": \"#2a3f5f\"}, \"type\": \"carpet\"}], \"choropleth\": [{\"colorbar\": {\"outlinewidth\": 0, \"ticks\": \"\"}, \"type\": \"choropleth\"}], \"contour\": [{\"colorbar\": {\"outlinewidth\": 0, \"ticks\": \"\"}, \"colorscale\": [[0.0, \"#0d0887\"], [0.1111111111111111, \"#46039f\"], [0.2222222222222222, \"#7201a8\"], [0.3333333333333333, \"#9c179e\"], [0.4444444444444444, \"#bd3786\"], [0.5555555555555556, \"#d8576b\"], [0.6666666666666666, \"#ed7953\"], [0.7777777777777778, \"#fb9f3a\"], [0.8888888888888888, \"#fdca26\"], [1.0, \"#f0f921\"]], \"type\": \"contour\"}], \"contourcarpet\": [{\"colorbar\": {\"outlinewidth\": 0, \"ticks\": \"\"}, \"type\": \"contourcarpet\"}], \"heatmap\": [{\"colorbar\": {\"outlinewidth\": 0, \"ticks\": \"\"}, \"colorscale\": [[0.0, \"#0d0887\"], [0.1111111111111111, \"#46039f\"], [0.2222222222222222, \"#7201a8\"], [0.3333333333333333, \"#9c179e\"], [0.4444444444444444, \"#bd3786\"], [0.5555555555555556, \"#d8576b\"], [0.6666666666666666, \"#ed7953\"], [0.7777777777777778, \"#fb9f3a\"], [0.8888888888888888, \"#fdca26\"], [1.0, \"#f0f921\"]], \"type\": \"heatmap\"}], \"heatmapgl\": [{\"colorbar\": {\"outlinewidth\": 0, \"ticks\": \"\"}, \"colorscale\": [[0.0, \"#0d0887\"], [0.1111111111111111, \"#46039f\"], [0.2222222222222222, \"#7201a8\"], [0.3333333333333333, \"#9c179e\"], [0.4444444444444444, \"#bd3786\"], [0.5555555555555556, \"#d8576b\"], [0.6666666666666666, \"#ed7953\"], [0.7777777777777778, \"#fb9f3a\"], [0.8888888888888888, \"#fdca26\"], [1.0, \"#f0f921\"]], \"type\": \"heatmapgl\"}], \"histogram\": [{\"marker\": {\"colorbar\": {\"outlinewidth\": 0, \"ticks\": \"\"}}, \"type\": \"histogram\"}], \"histogram2d\": [{\"colorbar\": {\"outlinewidth\": 0, \"ticks\": \"\"}, \"colorscale\": [[0.0, \"#0d0887\"], [0.1111111111111111, \"#46039f\"], [0.2222222222222222, \"#7201a8\"], [0.3333333333333333, \"#9c179e\"], [0.4444444444444444, \"#bd3786\"], [0.5555555555555556, \"#d8576b\"], [0.6666666666666666, \"#ed7953\"], [0.7777777777777778, \"#fb9f3a\"], [0.8888888888888888, \"#fdca26\"], [1.0, \"#f0f921\"]], \"type\": \"histogram2d\"}], \"histogram2dcontour\": [{\"colorbar\": {\"outlinewidth\": 0, \"ticks\": \"\"}, \"colorscale\": [[0.0, \"#0d0887\"], [0.1111111111111111, \"#46039f\"], [0.2222222222222222, \"#7201a8\"], [0.3333333333333333, \"#9c179e\"], [0.4444444444444444, \"#bd3786\"], [0.5555555555555556, \"#d8576b\"], [0.6666666666666666, \"#ed7953\"], [0.7777777777777778, \"#fb9f3a\"], [0.8888888888888888, \"#fdca26\"], [1.0, \"#f0f921\"]], \"type\": \"histogram2dcontour\"}], \"mesh3d\": [{\"colorbar\": {\"outlinewidth\": 0, \"ticks\": \"\"}, \"type\": \"mesh3d\"}], \"parcoords\": [{\"line\": {\"colorbar\": {\"outlinewidth\": 0, \"ticks\": \"\"}}, \"type\": \"parcoords\"}], \"pie\": [{\"automargin\": true, \"type\": \"pie\"}], \"scatter\": [{\"marker\": {\"colorbar\": {\"outlinewidth\": 0, \"ticks\": \"\"}}, \"type\": \"scatter\"}], \"scatter3d\": [{\"line\": {\"colorbar\": {\"outlinewidth\": 0, \"ticks\": \"\"}}, \"marker\": {\"colorbar\": {\"outlinewidth\": 0, \"ticks\": \"\"}}, \"type\": \"scatter3d\"}], \"scattercarpet\": [{\"marker\": {\"colorbar\": {\"outlinewidth\": 0, \"ticks\": \"\"}}, \"type\": \"scattercarpet\"}], \"scattergeo\": [{\"marker\": {\"colorbar\": {\"outlinewidth\": 0, \"ticks\": \"\"}}, \"type\": \"scattergeo\"}], \"scattergl\": [{\"marker\": {\"colorbar\": {\"outlinewidth\": 0, \"ticks\": \"\"}}, \"type\": \"scattergl\"}], \"scattermapbox\": [{\"marker\": {\"colorbar\": {\"outlinewidth\": 0, \"ticks\": \"\"}}, \"type\": \"scattermapbox\"}], \"scatterpolar\": [{\"marker\": {\"colorbar\": {\"outlinewidth\": 0, \"ticks\": \"\"}}, \"type\": \"scatterpolar\"}], \"scatterpolargl\": [{\"marker\": {\"colorbar\": {\"outlinewidth\": 0, \"ticks\": \"\"}}, \"type\": \"scatterpolargl\"}], \"scatterternary\": [{\"marker\": {\"colorbar\": {\"outlinewidth\": 0, \"ticks\": \"\"}}, \"type\": \"scatterternary\"}], \"surface\": [{\"colorbar\": {\"outlinewidth\": 0, \"ticks\": \"\"}, \"colorscale\": [[0.0, \"#0d0887\"], [0.1111111111111111, \"#46039f\"], [0.2222222222222222, \"#7201a8\"], [0.3333333333333333, \"#9c179e\"], [0.4444444444444444, \"#bd3786\"], [0.5555555555555556, \"#d8576b\"], [0.6666666666666666, \"#ed7953\"], [0.7777777777777778, \"#fb9f3a\"], [0.8888888888888888, \"#fdca26\"], [1.0, \"#f0f921\"]], \"type\": \"surface\"}], \"table\": [{\"cells\": {\"fill\": {\"color\": \"#EBF0F8\"}, \"line\": {\"color\": \"white\"}}, \"header\": {\"fill\": {\"color\": \"#C8D4E3\"}, \"line\": {\"color\": \"white\"}}, \"type\": \"table\"}]}, \"layout\": {\"annotationdefaults\": {\"arrowcolor\": \"#2a3f5f\", \"arrowhead\": 0, \"arrowwidth\": 1}, \"coloraxis\": {\"colorbar\": {\"outlinewidth\": 0, \"ticks\": \"\"}}, \"colorscale\": {\"diverging\": [[0, \"#8e0152\"], [0.1, \"#c51b7d\"], [0.2, \"#de77ae\"], [0.3, \"#f1b6da\"], [0.4, \"#fde0ef\"], [0.5, \"#f7f7f7\"], [0.6, \"#e6f5d0\"], [0.7, \"#b8e186\"], [0.8, \"#7fbc41\"], [0.9, \"#4d9221\"], [1, \"#276419\"]], \"sequential\": [[0.0, \"#0d0887\"], [0.1111111111111111, \"#46039f\"], [0.2222222222222222, \"#7201a8\"], [0.3333333333333333, \"#9c179e\"], [0.4444444444444444, \"#bd3786\"], [0.5555555555555556, \"#d8576b\"], [0.6666666666666666, \"#ed7953\"], [0.7777777777777778, \"#fb9f3a\"], [0.8888888888888888, \"#fdca26\"], [1.0, \"#f0f921\"]], \"sequentialminus\": [[0.0, \"#0d0887\"], [0.1111111111111111, \"#46039f\"], [0.2222222222222222, \"#7201a8\"], [0.3333333333333333, \"#9c179e\"], [0.4444444444444444, \"#bd3786\"], [0.5555555555555556, \"#d8576b\"], [0.6666666666666666, \"#ed7953\"], [0.7777777777777778, \"#fb9f3a\"], [0.8888888888888888, \"#fdca26\"], [1.0, \"#f0f921\"]]}, \"colorway\": [\"#636efa\", \"#EF553B\", \"#00cc96\", \"#ab63fa\", \"#FFA15A\", \"#19d3f3\", \"#FF6692\", \"#B6E880\", \"#FF97FF\", \"#FECB52\"], \"font\": {\"color\": \"#2a3f5f\"}, \"geo\": {\"bgcolor\": \"white\", \"lakecolor\": \"white\", \"landcolor\": \"#E5ECF6\", \"showlakes\": true, \"showland\": true, \"subunitcolor\": \"white\"}, \"hoverlabel\": {\"align\": \"left\"}, \"hovermode\": \"closest\", \"mapbox\": {\"style\": \"light\"}, \"paper_bgcolor\": \"white\", \"plot_bgcolor\": \"#E5ECF6\", \"polar\": {\"angularaxis\": {\"gridcolor\": \"white\", \"linecolor\": \"white\", \"ticks\": \"\"}, \"bgcolor\": \"#E5ECF6\", \"radialaxis\": {\"gridcolor\": \"white\", \"linecolor\": \"white\", \"ticks\": \"\"}}, \"scene\": {\"xaxis\": {\"backgroundcolor\": \"#E5ECF6\", \"gridcolor\": \"white\", \"gridwidth\": 2, \"linecolor\": \"white\", \"showbackground\": true, \"ticks\": \"\", \"zerolinecolor\": \"white\"}, \"yaxis\": {\"backgroundcolor\": \"#E5ECF6\", \"gridcolor\": \"white\", \"gridwidth\": 2, \"linecolor\": \"white\", \"showbackground\": true, \"ticks\": \"\", \"zerolinecolor\": \"white\"}, \"zaxis\": {\"backgroundcolor\": \"#E5ECF6\", \"gridcolor\": \"white\", \"gridwidth\": 2, \"linecolor\": \"white\", \"showbackground\": true, \"ticks\": \"\", \"zerolinecolor\": \"white\"}}, \"shapedefaults\": {\"line\": {\"color\": \"#2a3f5f\"}}, \"ternary\": {\"aaxis\": {\"gridcolor\": \"white\", \"linecolor\": \"white\", \"ticks\": \"\"}, \"baxis\": {\"gridcolor\": \"white\", \"linecolor\": \"white\", \"ticks\": \"\"}, \"bgcolor\": \"#E5ECF6\", \"caxis\": {\"gridcolor\": \"white\", \"linecolor\": \"white\", \"ticks\": \"\"}}, \"title\": {\"x\": 0.05}, \"xaxis\": {\"automargin\": true, \"gridcolor\": \"white\", \"linecolor\": \"white\", \"ticks\": \"\", \"title\": {\"standoff\": 15}, \"zerolinecolor\": \"white\", \"zerolinewidth\": 2}, \"yaxis\": {\"automargin\": true, \"gridcolor\": \"white\", \"linecolor\": \"white\", \"ticks\": \"\", \"title\": {\"standoff\": 15}, \"zerolinecolor\": \"white\", \"zerolinewidth\": 2}}}, \"xaxis\": {\"anchor\": \"y\", \"domain\": [0.0, 1.0], \"title\": {\"text\": \"price\"}, \"type\": \"log\"}, \"yaxis\": {\"anchor\": \"x\", \"domain\": [0.0, 1.0], \"title\": {\"text\": \"cut\"}}},\n",
       "                        {\"responsive\": true}\n",
       "                    ).then(function(){\n",
       "                            \n",
       "var gd = document.getElementById('0015ed1a-6b3c-4492-9f12-b13b36977c3b');\n",
       "var x = new MutationObserver(function (mutations, observer) {{\n",
       "        var display = window.getComputedStyle(gd).display;\n",
       "        if (!display || display === 'none') {{\n",
       "            console.log([gd, 'removed!']);\n",
       "            Plotly.purge(gd);\n",
       "            observer.disconnect();\n",
       "        }}\n",
       "}});\n",
       "\n",
       "// Listen for the removal of the full notebook cells\n",
       "var notebookContainer = gd.closest('#notebook-container');\n",
       "if (notebookContainer) {{\n",
       "    x.observe(notebookContainer, {childList: true});\n",
       "}}\n",
       "\n",
       "// Listen for the clearing of the current output cell\n",
       "var outputEl = gd.closest('.output');\n",
       "if (outputEl) {{\n",
       "    x.observe(outputEl, {childList: true});\n",
       "}}\n",
       "\n",
       "                        })\n",
       "                };\n",
       "                });\n",
       "            </script>\n",
       "        </div>"
      ]
     },
     "metadata": {},
     "output_type": "display_data"
    }
   ],
   "source": [
    "fig = px.scatter(diamonds.query(\"carat>3\"), x=\"price\", y=\"cut\", size=\"table\", color=\"color\",\n",
    "           hover_name=\"Potential Client\", log_x=True, size_max=60)\n",
    "fig.show()"
   ]
  },
  {
   "cell_type": "markdown",
   "metadata": {},
   "source": [
    "Potential selling"
   ]
  },
  {
   "cell_type": "code",
   "execution_count": 5,
   "metadata": {},
   "outputs": [
    {
     "data": {
      "text/html": [
       "<script>\n",
       "code_show=true; \n",
       "function code_toggle() {\n",
       " if (code_show){\n",
       " $('div.input').hide();\n",
       " } else {\n",
       " $('div.input').show();\n",
       " }\n",
       " code_show = !code_show\n",
       "} \n",
       "$( document ).ready(code_toggle);\n",
       "</script>\n",
       "The raw code for this IPython notebook is by default hidden for easier reading.\n",
       "To toggle on/off the raw code, click <a href=\"javascript:code_toggle()\">here</a>."
      ],
      "text/plain": [
       "<IPython.core.display.HTML object>"
      ]
     },
     "execution_count": 5,
     "metadata": {},
     "output_type": "execute_result"
    }
   ],
   "source": [
    "from IPython.display import HTML\n",
    "HTML('''<script>\n",
    "code_show=true; \n",
    "function code_toggle() {\n",
    " if (code_show){\n",
    " $('div.input').hide();\n",
    " } else {\n",
    " $('div.input').show();\n",
    " }\n",
    " code_show = !code_show\n",
    "} \n",
    "$( document ).ready(code_toggle);\n",
    "</script>\n",
    "The raw code for this IPython notebook is by default hidden for easier reading.\n",
    "To toggle on/off the raw code, click <a href=\"javascript:code_toggle()\">here</a>.''')"
   ]
  },
  {
   "cell_type": "code",
   "execution_count": null,
   "metadata": {},
   "outputs": [],
   "source": []
  }
 ],
 "metadata": {
  "kernelspec": {
   "display_name": "Python [conda env:Ironhack] *",
   "language": "python",
   "name": "conda-env-Ironhack-py"
  },
  "language_info": {
   "codemirror_mode": {
    "name": "ipython",
    "version": 3
   },
   "file_extension": ".py",
   "mimetype": "text/x-python",
   "name": "python",
   "nbconvert_exporter": "python",
   "pygments_lexer": "ipython3",
   "version": "3.7.3"
  }
 },
 "nbformat": 4,
 "nbformat_minor": 4
}
