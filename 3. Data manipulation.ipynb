{
 "cells": [
  {
   "cell_type": "markdown",
   "metadata": {},
   "source": [
    "# Data transformation"
   ]
  },
  {
   "cell_type": "markdown",
   "metadata": {},
   "source": [
    "Categorizing numerical variables"
   ]
  },
  {
   "cell_type": "code",
   "execution_count": 1,
   "metadata": {},
   "outputs": [],
   "source": [
    "# Ignore warnings :\n",
    "import warnings\n",
    "warnings.filterwarnings('ignore')\n",
    "\n",
    "# Data handling\n",
    "import pandas as pd\n",
    "import re\n",
    "import requests\n",
    "from bs4 import BeautifulSoup\n",
    "import itertools\n",
    "import numpy as np\n",
    "\n",
    "# Data Exploration\n",
    "import missingno\n",
    "\n",
    "# Data Visualization\n",
    "import matplotlib.pyplot as plt\n",
    "import seaborn as sns\n",
    "from IPython.display import set_matplotlib_formats\n",
    "import cufflinks as cf\n",
    "import plotly.express as px\n",
    "import matplotlib.gridspec as gridspec\n",
    "import plotly.graph_objects as go\n",
    "import plotly.figure_factory as ff"
   ]
  },
  {
   "cell_type": "code",
   "execution_count": 2,
   "metadata": {},
   "outputs": [],
   "source": [
    "diamonds=pd.read_csv('/home/carmencuadrado/Ironhack/ih_datamadpt0420_project_m2/diamonds_train.csv')"
   ]
  },
  {
   "cell_type": "code",
   "execution_count": 3,
   "metadata": {},
   "outputs": [],
   "source": [
    "diamonds['table_type']=diamonds['table'].apply(lambda x: \"Excellent\" if x>=53 and x<=58 else (\"Very good\" if x>=52 and x<=53 else (\"Very good\" if x>=58 and x<=60 else (\"Upper outlier\" if x>60 else \"Lower outlier\"))))\n",
    "diamonds['carat_scale']=diamonds['carat'].apply(lambda x: \"0-0.10\" if x>0 and x<=0.10 else(\"0.10-0.25\" if x>0.10 and x<=0.25 else (\"0.25-0.50\" if x>0.25 and x<=0.50 else (\"0.50-0.75\" if x>0.50 and x<=0.75 else (\"0.75-1\" if x>0.75 and x<=1 else (\"1-1.25\" if x >1 and x<=1.25 else (\"1.25-1.50\" if x>1.25 and x<=1.50 else (\"1.50-1.75\" if x>1.50 and x<=1.75 else (\"1.75-2\" if x>1.75 and x<=2 else (\"2-2.5\" if x>2 and x<=2.5 else (\"2.5-3\" if x>2.5 and x<3 else (\"3-4\" if x>3 and x<=4 else \"+4\"))))))))))))\n",
    "diamonds['depth_type']=diamonds['depth'].apply(lambda x: \"Excellent\" if x>=59 and x<=62.3 else (\"Very good\" if x>=58 and x<=58.9 else (\"Very good\" if x>=62.4 and x<=63.8 else (\"Upper outlier\" if x>63.8 else \"Lower outlier\"))))"
   ]
  },
  {
   "cell_type": "markdown",
   "metadata": {},
   "source": [
    "## Ranking"
   ]
  },
  {
   "cell_type": "markdown",
   "metadata": {},
   "source": [
    "Standardazing"
   ]
  },
  {
   "cell_type": "code",
   "execution_count": 32,
   "metadata": {},
   "outputs": [
    {
     "name": "stdout",
     "output_type": "stream",
     "text": [
      "Table type : [Excellent, Very good, Upper outlier, Lower outlier]\n",
      "Categories (4, object): [Excellent, Very good, Upper outlier, Lower outlier]\n",
      "Carat scale : [1-1.25, 0.25-0.50, 0.50-0.75, 1.50-1.75, 0.75-1, ..., 2-2.5, 0.10-0.25, 2.5-3, +4, 3-4]\n",
      "Length: 12\n",
      "Categories (12, object): [1-1.25, 0.25-0.50, 0.50-0.75, 1.50-1.75, ..., 0.10-0.25, 2.5-3, +4, 3-4]\n",
      "Depth type : [Very good, Upper outlier, Excellent, Lower outlier]\n",
      "Categories (4, object): [Very good, Upper outlier, Excellent, Lower outlier]\n"
     ]
    }
   ],
   "source": [
    "print('Table type',':',diamonds['table_type'].unique())\n",
    "print('Carat scale',':',diamonds['carat_scale'].unique())\n",
    "print('Depth type',':',diamonds['depth_type'].unique())"
   ]
  },
  {
   "cell_type": "code",
   "execution_count": 4,
   "metadata": {},
   "outputs": [
    {
     "data": {
      "text/html": [
       "<div>\n",
       "<style scoped>\n",
       "    .dataframe tbody tr th:only-of-type {\n",
       "        vertical-align: middle;\n",
       "    }\n",
       "\n",
       "    .dataframe tbody tr th {\n",
       "        vertical-align: top;\n",
       "    }\n",
       "\n",
       "    .dataframe thead th {\n",
       "        text-align: right;\n",
       "    }\n",
       "</style>\n",
       "<table border=\"1\" class=\"dataframe\">\n",
       "  <thead>\n",
       "    <tr style=\"text-align: right;\">\n",
       "      <th></th>\n",
       "      <th>carat</th>\n",
       "      <th>cut</th>\n",
       "      <th>color</th>\n",
       "      <th>clarity</th>\n",
       "      <th>depth</th>\n",
       "      <th>table</th>\n",
       "      <th>price</th>\n",
       "      <th>x</th>\n",
       "      <th>y</th>\n",
       "      <th>z</th>\n",
       "      <th>table_type</th>\n",
       "      <th>carat_scale</th>\n",
       "      <th>depth_type</th>\n",
       "    </tr>\n",
       "  </thead>\n",
       "  <tbody>\n",
       "    <tr>\n",
       "      <th>0</th>\n",
       "      <td>1.21</td>\n",
       "      <td>Premium</td>\n",
       "      <td>J</td>\n",
       "      <td>VS2</td>\n",
       "      <td>62.4</td>\n",
       "      <td>58.0</td>\n",
       "      <td>4268</td>\n",
       "      <td>6.83</td>\n",
       "      <td>6.79</td>\n",
       "      <td>4.25</td>\n",
       "      <td>Excellent</td>\n",
       "      <td>1-1.25</td>\n",
       "      <td>Very good</td>\n",
       "    </tr>\n",
       "    <tr>\n",
       "      <th>1</th>\n",
       "      <td>0.32</td>\n",
       "      <td>Very Good</td>\n",
       "      <td>H</td>\n",
       "      <td>VS2</td>\n",
       "      <td>63.0</td>\n",
       "      <td>57.0</td>\n",
       "      <td>505</td>\n",
       "      <td>4.35</td>\n",
       "      <td>4.38</td>\n",
       "      <td>2.75</td>\n",
       "      <td>Excellent</td>\n",
       "      <td>0.25-0.50</td>\n",
       "      <td>Very good</td>\n",
       "    </tr>\n",
       "    <tr>\n",
       "      <th>2</th>\n",
       "      <td>0.71</td>\n",
       "      <td>Fair</td>\n",
       "      <td>G</td>\n",
       "      <td>VS1</td>\n",
       "      <td>65.5</td>\n",
       "      <td>55.0</td>\n",
       "      <td>2686</td>\n",
       "      <td>5.62</td>\n",
       "      <td>5.53</td>\n",
       "      <td>3.65</td>\n",
       "      <td>Excellent</td>\n",
       "      <td>0.50-0.75</td>\n",
       "      <td>Upper outlier</td>\n",
       "    </tr>\n",
       "    <tr>\n",
       "      <th>3</th>\n",
       "      <td>0.41</td>\n",
       "      <td>Good</td>\n",
       "      <td>D</td>\n",
       "      <td>SI1</td>\n",
       "      <td>63.8</td>\n",
       "      <td>56.0</td>\n",
       "      <td>738</td>\n",
       "      <td>4.68</td>\n",
       "      <td>4.72</td>\n",
       "      <td>3.00</td>\n",
       "      <td>Excellent</td>\n",
       "      <td>0.25-0.50</td>\n",
       "      <td>Very good</td>\n",
       "    </tr>\n",
       "    <tr>\n",
       "      <th>4</th>\n",
       "      <td>1.02</td>\n",
       "      <td>Ideal</td>\n",
       "      <td>G</td>\n",
       "      <td>SI1</td>\n",
       "      <td>60.5</td>\n",
       "      <td>59.0</td>\n",
       "      <td>4882</td>\n",
       "      <td>6.55</td>\n",
       "      <td>6.51</td>\n",
       "      <td>3.95</td>\n",
       "      <td>Very good</td>\n",
       "      <td>1-1.25</td>\n",
       "      <td>Excellent</td>\n",
       "    </tr>\n",
       "  </tbody>\n",
       "</table>\n",
       "</div>"
      ],
      "text/plain": [
       "   carat        cut color clarity  depth  table  price     x     y     z  \\\n",
       "0   1.21    Premium     J     VS2   62.4   58.0   4268  6.83  6.79  4.25   \n",
       "1   0.32  Very Good     H     VS2   63.0   57.0    505  4.35  4.38  2.75   \n",
       "2   0.71       Fair     G     VS1   65.5   55.0   2686  5.62  5.53  3.65   \n",
       "3   0.41       Good     D     SI1   63.8   56.0    738  4.68  4.72  3.00   \n",
       "4   1.02      Ideal     G     SI1   60.5   59.0   4882  6.55  6.51  3.95   \n",
       "\n",
       "  table_type carat_scale     depth_type  \n",
       "0  Excellent      1-1.25      Very good  \n",
       "1  Excellent   0.25-0.50      Very good  \n",
       "2  Excellent   0.50-0.75  Upper outlier  \n",
       "3  Excellent   0.25-0.50      Very good  \n",
       "4  Very good      1-1.25      Excellent  "
      ]
     },
     "execution_count": 4,
     "metadata": {},
     "output_type": "execute_result"
    }
   ],
   "source": [
    "diamonds.head()"
   ]
  },
  {
   "cell_type": "markdown",
   "metadata": {},
   "source": [
    "Sorting by numerical variables"
   ]
  },
  {
   "cell_type": "code",
   "execution_count": 5,
   "metadata": {},
   "outputs": [],
   "source": [
    "diamonds['table_type'] = pd.Categorical(diamonds['table_type'], ['Lower outlier','Upper outlier','Very good','Excellent'])\n",
    "diamonds['carat_scale'] = pd.Categorical(diamonds['carat_scale'], [\"0-0.10\",\"0.10-0.25\",\"0.25-0.50\",\"0.50-0.75\",\"0.75-1\",\"1-1.25\",\"1.25-1.50\",\"1.50-1.75\",\"1.75-2\",\"2-2.5\",\"2.5-3\",\"3-4\",\"+4\"])\n",
    "diamonds['depth_type'] = pd.Categorical(diamonds['depth_type'], ['Lower outlier','Upper outlier','Very good','Excellent'])"
   ]
  },
  {
   "cell_type": "code",
   "execution_count": 6,
   "metadata": {},
   "outputs": [
    {
     "data": {
      "text/html": [
       "<div>\n",
       "<style scoped>\n",
       "    .dataframe tbody tr th:only-of-type {\n",
       "        vertical-align: middle;\n",
       "    }\n",
       "\n",
       "    .dataframe tbody tr th {\n",
       "        vertical-align: top;\n",
       "    }\n",
       "\n",
       "    .dataframe thead th {\n",
       "        text-align: right;\n",
       "    }\n",
       "</style>\n",
       "<table border=\"1\" class=\"dataframe\">\n",
       "  <thead>\n",
       "    <tr style=\"text-align: right;\">\n",
       "      <th></th>\n",
       "      <th>carat</th>\n",
       "      <th>cut</th>\n",
       "      <th>color</th>\n",
       "      <th>clarity</th>\n",
       "      <th>depth</th>\n",
       "      <th>table</th>\n",
       "      <th>price</th>\n",
       "      <th>x</th>\n",
       "      <th>y</th>\n",
       "      <th>z</th>\n",
       "      <th>table_type</th>\n",
       "      <th>carat_scale</th>\n",
       "      <th>depth_type</th>\n",
       "    </tr>\n",
       "  </thead>\n",
       "  <tbody>\n",
       "    <tr>\n",
       "      <th>0</th>\n",
       "      <td>1.21</td>\n",
       "      <td>Premium</td>\n",
       "      <td>J</td>\n",
       "      <td>VS2</td>\n",
       "      <td>62.4</td>\n",
       "      <td>58.0</td>\n",
       "      <td>4268</td>\n",
       "      <td>6.83</td>\n",
       "      <td>6.79</td>\n",
       "      <td>4.25</td>\n",
       "      <td>Excellent</td>\n",
       "      <td>1-1.25</td>\n",
       "      <td>Very good</td>\n",
       "    </tr>\n",
       "    <tr>\n",
       "      <th>1</th>\n",
       "      <td>0.32</td>\n",
       "      <td>Very Good</td>\n",
       "      <td>H</td>\n",
       "      <td>VS2</td>\n",
       "      <td>63.0</td>\n",
       "      <td>57.0</td>\n",
       "      <td>505</td>\n",
       "      <td>4.35</td>\n",
       "      <td>4.38</td>\n",
       "      <td>2.75</td>\n",
       "      <td>Excellent</td>\n",
       "      <td>0.25-0.50</td>\n",
       "      <td>Very good</td>\n",
       "    </tr>\n",
       "    <tr>\n",
       "      <th>2</th>\n",
       "      <td>0.71</td>\n",
       "      <td>Fair</td>\n",
       "      <td>G</td>\n",
       "      <td>VS1</td>\n",
       "      <td>65.5</td>\n",
       "      <td>55.0</td>\n",
       "      <td>2686</td>\n",
       "      <td>5.62</td>\n",
       "      <td>5.53</td>\n",
       "      <td>3.65</td>\n",
       "      <td>Excellent</td>\n",
       "      <td>0.50-0.75</td>\n",
       "      <td>Upper outlier</td>\n",
       "    </tr>\n",
       "    <tr>\n",
       "      <th>3</th>\n",
       "      <td>0.41</td>\n",
       "      <td>Good</td>\n",
       "      <td>D</td>\n",
       "      <td>SI1</td>\n",
       "      <td>63.8</td>\n",
       "      <td>56.0</td>\n",
       "      <td>738</td>\n",
       "      <td>4.68</td>\n",
       "      <td>4.72</td>\n",
       "      <td>3.00</td>\n",
       "      <td>Excellent</td>\n",
       "      <td>0.25-0.50</td>\n",
       "      <td>Very good</td>\n",
       "    </tr>\n",
       "    <tr>\n",
       "      <th>4</th>\n",
       "      <td>1.02</td>\n",
       "      <td>Ideal</td>\n",
       "      <td>G</td>\n",
       "      <td>SI1</td>\n",
       "      <td>60.5</td>\n",
       "      <td>59.0</td>\n",
       "      <td>4882</td>\n",
       "      <td>6.55</td>\n",
       "      <td>6.51</td>\n",
       "      <td>3.95</td>\n",
       "      <td>Very good</td>\n",
       "      <td>1-1.25</td>\n",
       "      <td>Excellent</td>\n",
       "    </tr>\n",
       "  </tbody>\n",
       "</table>\n",
       "</div>"
      ],
      "text/plain": [
       "   carat        cut color clarity  depth  table  price     x     y     z  \\\n",
       "0   1.21    Premium     J     VS2   62.4   58.0   4268  6.83  6.79  4.25   \n",
       "1   0.32  Very Good     H     VS2   63.0   57.0    505  4.35  4.38  2.75   \n",
       "2   0.71       Fair     G     VS1   65.5   55.0   2686  5.62  5.53  3.65   \n",
       "3   0.41       Good     D     SI1   63.8   56.0    738  4.68  4.72  3.00   \n",
       "4   1.02      Ideal     G     SI1   60.5   59.0   4882  6.55  6.51  3.95   \n",
       "\n",
       "  table_type carat_scale     depth_type  \n",
       "0  Excellent      1-1.25      Very good  \n",
       "1  Excellent   0.25-0.50      Very good  \n",
       "2  Excellent   0.50-0.75  Upper outlier  \n",
       "3  Excellent   0.25-0.50      Very good  \n",
       "4  Very good      1-1.25      Excellent  "
      ]
     },
     "execution_count": 6,
     "metadata": {},
     "output_type": "execute_result"
    }
   ],
   "source": [
    "diamonds.sort_values(['table_type','carat_scale','depth_type'],ascending=(False,False,False))\n",
    "diamonds.head()"
   ]
  },
  {
   "cell_type": "markdown",
   "metadata": {},
   "source": [
    "Sorting by categorical variables"
   ]
  },
  {
   "cell_type": "code",
   "execution_count": 7,
   "metadata": {},
   "outputs": [],
   "source": [
    "diamonds['cut'] = pd.Categorical(diamonds['cut'], [\"Fair\", \"Good\",\"Very Good\",\"Premium\",\"Ideal\"])\n",
    "diamonds['clarity'] = pd.Categorical(diamonds['clarity'], [\"I1\", \"I2\",\"I3\",\"SI1\",\"SI2\",\"VS1\",\"VS2\",\"VVS1\",\"VVS2\",\"IF\"])\n",
    "diamonds['color'] = pd.Categorical(diamonds['color'], [\"I\",\"J\",\"H\",\"G\",\"F\",\"E\",\"D\"])"
   ]
  },
  {
   "cell_type": "code",
   "execution_count": 8,
   "metadata": {
    "scrolled": true
   },
   "outputs": [
    {
     "data": {
      "text/html": [
       "<div>\n",
       "<style scoped>\n",
       "    .dataframe tbody tr th:only-of-type {\n",
       "        vertical-align: middle;\n",
       "    }\n",
       "\n",
       "    .dataframe tbody tr th {\n",
       "        vertical-align: top;\n",
       "    }\n",
       "\n",
       "    .dataframe thead th {\n",
       "        text-align: right;\n",
       "    }\n",
       "</style>\n",
       "<table border=\"1\" class=\"dataframe\">\n",
       "  <thead>\n",
       "    <tr style=\"text-align: right;\">\n",
       "      <th></th>\n",
       "      <th>carat</th>\n",
       "      <th>cut</th>\n",
       "      <th>color</th>\n",
       "      <th>clarity</th>\n",
       "      <th>depth</th>\n",
       "      <th>table</th>\n",
       "      <th>price</th>\n",
       "      <th>x</th>\n",
       "      <th>y</th>\n",
       "      <th>z</th>\n",
       "      <th>table_type</th>\n",
       "      <th>carat_scale</th>\n",
       "      <th>depth_type</th>\n",
       "    </tr>\n",
       "  </thead>\n",
       "  <tbody>\n",
       "    <tr>\n",
       "      <th>18377</th>\n",
       "      <td>0.21</td>\n",
       "      <td>Premium</td>\n",
       "      <td>E</td>\n",
       "      <td>SI1</td>\n",
       "      <td>59.8</td>\n",
       "      <td>61.0</td>\n",
       "      <td>326</td>\n",
       "      <td>3.89</td>\n",
       "      <td>3.84</td>\n",
       "      <td>2.31</td>\n",
       "      <td>Upper outlier</td>\n",
       "      <td>0.10-0.25</td>\n",
       "      <td>Excellent</td>\n",
       "    </tr>\n",
       "    <tr>\n",
       "      <th>9782</th>\n",
       "      <td>0.23</td>\n",
       "      <td>Ideal</td>\n",
       "      <td>E</td>\n",
       "      <td>SI2</td>\n",
       "      <td>61.5</td>\n",
       "      <td>55.0</td>\n",
       "      <td>326</td>\n",
       "      <td>3.95</td>\n",
       "      <td>3.98</td>\n",
       "      <td>2.43</td>\n",
       "      <td>Excellent</td>\n",
       "      <td>0.10-0.25</td>\n",
       "      <td>Excellent</td>\n",
       "    </tr>\n",
       "    <tr>\n",
       "      <th>18381</th>\n",
       "      <td>0.23</td>\n",
       "      <td>Good</td>\n",
       "      <td>E</td>\n",
       "      <td>VS1</td>\n",
       "      <td>56.9</td>\n",
       "      <td>65.0</td>\n",
       "      <td>327</td>\n",
       "      <td>4.05</td>\n",
       "      <td>4.07</td>\n",
       "      <td>2.31</td>\n",
       "      <td>Upper outlier</td>\n",
       "      <td>0.10-0.25</td>\n",
       "      <td>Lower outlier</td>\n",
       "    </tr>\n",
       "    <tr>\n",
       "      <th>20968</th>\n",
       "      <td>0.29</td>\n",
       "      <td>Premium</td>\n",
       "      <td>I</td>\n",
       "      <td>VS2</td>\n",
       "      <td>62.4</td>\n",
       "      <td>58.0</td>\n",
       "      <td>334</td>\n",
       "      <td>4.20</td>\n",
       "      <td>4.23</td>\n",
       "      <td>2.63</td>\n",
       "      <td>Excellent</td>\n",
       "      <td>0.25-0.50</td>\n",
       "      <td>Very good</td>\n",
       "    </tr>\n",
       "    <tr>\n",
       "      <th>12084</th>\n",
       "      <td>0.31</td>\n",
       "      <td>Good</td>\n",
       "      <td>J</td>\n",
       "      <td>SI2</td>\n",
       "      <td>63.3</td>\n",
       "      <td>58.0</td>\n",
       "      <td>335</td>\n",
       "      <td>4.34</td>\n",
       "      <td>4.35</td>\n",
       "      <td>2.75</td>\n",
       "      <td>Excellent</td>\n",
       "      <td>0.25-0.50</td>\n",
       "      <td>Very good</td>\n",
       "    </tr>\n",
       "  </tbody>\n",
       "</table>\n",
       "</div>"
      ],
      "text/plain": [
       "       carat      cut color clarity  depth  table  price     x     y     z  \\\n",
       "18377   0.21  Premium     E     SI1   59.8   61.0    326  3.89  3.84  2.31   \n",
       "9782    0.23    Ideal     E     SI2   61.5   55.0    326  3.95  3.98  2.43   \n",
       "18381   0.23     Good     E     VS1   56.9   65.0    327  4.05  4.07  2.31   \n",
       "20968   0.29  Premium     I     VS2   62.4   58.0    334  4.20  4.23  2.63   \n",
       "12084   0.31     Good     J     SI2   63.3   58.0    335  4.34  4.35  2.75   \n",
       "\n",
       "          table_type carat_scale     depth_type  \n",
       "18377  Upper outlier   0.10-0.25      Excellent  \n",
       "9782       Excellent   0.10-0.25      Excellent  \n",
       "18381  Upper outlier   0.10-0.25  Lower outlier  \n",
       "20968      Excellent   0.25-0.50      Very good  \n",
       "12084      Excellent   0.25-0.50      Very good  "
      ]
     },
     "execution_count": 8,
     "metadata": {},
     "output_type": "execute_result"
    }
   ],
   "source": [
    "diamonds.sort_values('price').head()"
   ]
  },
  {
   "cell_type": "markdown",
   "metadata": {},
   "source": [
    "Sorting by numerical & categorical variables"
   ]
  },
  {
   "cell_type": "code",
   "execution_count": 9,
   "metadata": {},
   "outputs": [
    {
     "data": {
      "text/html": [
       "<div>\n",
       "<style scoped>\n",
       "    .dataframe tbody tr th:only-of-type {\n",
       "        vertical-align: middle;\n",
       "    }\n",
       "\n",
       "    .dataframe tbody tr th {\n",
       "        vertical-align: top;\n",
       "    }\n",
       "\n",
       "    .dataframe thead th {\n",
       "        text-align: right;\n",
       "    }\n",
       "</style>\n",
       "<table border=\"1\" class=\"dataframe\">\n",
       "  <thead>\n",
       "    <tr style=\"text-align: right;\">\n",
       "      <th></th>\n",
       "      <th>carat</th>\n",
       "      <th>cut</th>\n",
       "      <th>color</th>\n",
       "      <th>clarity</th>\n",
       "      <th>depth</th>\n",
       "      <th>table</th>\n",
       "      <th>price</th>\n",
       "      <th>x</th>\n",
       "      <th>y</th>\n",
       "      <th>z</th>\n",
       "      <th>table_type</th>\n",
       "      <th>carat_scale</th>\n",
       "      <th>depth_type</th>\n",
       "    </tr>\n",
       "  </thead>\n",
       "  <tbody>\n",
       "    <tr>\n",
       "      <th>0</th>\n",
       "      <td>1.21</td>\n",
       "      <td>Premium</td>\n",
       "      <td>J</td>\n",
       "      <td>VS2</td>\n",
       "      <td>62.4</td>\n",
       "      <td>58.0</td>\n",
       "      <td>4268</td>\n",
       "      <td>6.83</td>\n",
       "      <td>6.79</td>\n",
       "      <td>4.25</td>\n",
       "      <td>Excellent</td>\n",
       "      <td>1-1.25</td>\n",
       "      <td>Very good</td>\n",
       "    </tr>\n",
       "    <tr>\n",
       "      <th>1</th>\n",
       "      <td>0.32</td>\n",
       "      <td>Very Good</td>\n",
       "      <td>H</td>\n",
       "      <td>VS2</td>\n",
       "      <td>63.0</td>\n",
       "      <td>57.0</td>\n",
       "      <td>505</td>\n",
       "      <td>4.35</td>\n",
       "      <td>4.38</td>\n",
       "      <td>2.75</td>\n",
       "      <td>Excellent</td>\n",
       "      <td>0.25-0.50</td>\n",
       "      <td>Very good</td>\n",
       "    </tr>\n",
       "    <tr>\n",
       "      <th>2</th>\n",
       "      <td>0.71</td>\n",
       "      <td>Fair</td>\n",
       "      <td>G</td>\n",
       "      <td>VS1</td>\n",
       "      <td>65.5</td>\n",
       "      <td>55.0</td>\n",
       "      <td>2686</td>\n",
       "      <td>5.62</td>\n",
       "      <td>5.53</td>\n",
       "      <td>3.65</td>\n",
       "      <td>Excellent</td>\n",
       "      <td>0.50-0.75</td>\n",
       "      <td>Upper outlier</td>\n",
       "    </tr>\n",
       "    <tr>\n",
       "      <th>3</th>\n",
       "      <td>0.41</td>\n",
       "      <td>Good</td>\n",
       "      <td>D</td>\n",
       "      <td>SI1</td>\n",
       "      <td>63.8</td>\n",
       "      <td>56.0</td>\n",
       "      <td>738</td>\n",
       "      <td>4.68</td>\n",
       "      <td>4.72</td>\n",
       "      <td>3.00</td>\n",
       "      <td>Excellent</td>\n",
       "      <td>0.25-0.50</td>\n",
       "      <td>Very good</td>\n",
       "    </tr>\n",
       "    <tr>\n",
       "      <th>4</th>\n",
       "      <td>1.02</td>\n",
       "      <td>Ideal</td>\n",
       "      <td>G</td>\n",
       "      <td>SI1</td>\n",
       "      <td>60.5</td>\n",
       "      <td>59.0</td>\n",
       "      <td>4882</td>\n",
       "      <td>6.55</td>\n",
       "      <td>6.51</td>\n",
       "      <td>3.95</td>\n",
       "      <td>Very good</td>\n",
       "      <td>1-1.25</td>\n",
       "      <td>Excellent</td>\n",
       "    </tr>\n",
       "  </tbody>\n",
       "</table>\n",
       "</div>"
      ],
      "text/plain": [
       "   carat        cut color clarity  depth  table  price     x     y     z  \\\n",
       "0   1.21    Premium     J     VS2   62.4   58.0   4268  6.83  6.79  4.25   \n",
       "1   0.32  Very Good     H     VS2   63.0   57.0    505  4.35  4.38  2.75   \n",
       "2   0.71       Fair     G     VS1   65.5   55.0   2686  5.62  5.53  3.65   \n",
       "3   0.41       Good     D     SI1   63.8   56.0    738  4.68  4.72  3.00   \n",
       "4   1.02      Ideal     G     SI1   60.5   59.0   4882  6.55  6.51  3.95   \n",
       "\n",
       "  table_type carat_scale     depth_type  \n",
       "0  Excellent      1-1.25      Very good  \n",
       "1  Excellent   0.25-0.50      Very good  \n",
       "2  Excellent   0.50-0.75  Upper outlier  \n",
       "3  Excellent   0.25-0.50      Very good  \n",
       "4  Very good      1-1.25      Excellent  "
      ]
     },
     "execution_count": 9,
     "metadata": {},
     "output_type": "execute_result"
    }
   ],
   "source": [
    "diamonds.sort_values(['cut','clarity','color','table_type','carat_scale','depth_type'],ascending=(False,False,False,False,False,False)).reset_index()\n",
    "diamonds.head()"
   ]
  },
  {
   "cell_type": "code",
   "execution_count": 34,
   "metadata": {},
   "outputs": [],
   "source": [
    "round=pd.DataFrame()\n",
    "x=d['Round']\n",
    "width=[]\n",
    "carat=[]\n",
    "for i in x:\n",
    "    width.append(i[0])\n",
    "    carat.append(i[1])\n",
    "round['Round length']=width\n",
    "round['carat']=carat\n",
    "round['Round length']=round['Round length'].apply(clean)\n",
    "round['carat']=round['carat'].apply(clean)\n",
    "round['Round length']=round['Round length'].apply(clean2)\n",
    "round['carat']=round['carat'].apply(clean1)\n",
    "round['Round length']=round['Round length'].astype('float64', copy=False)\n",
    "round['carat']=round['carat'].astype('float64', copy=False)\n",
    "diamonds= pd.merge(diamonds,round, on='carat', how='left')\n",
    "diamonds['Round length']=diamonds['Round length'].fillna(0)\n"
   ]
  },
  {
   "cell_type": "markdown",
   "metadata": {},
   "source": [
    "## Enriching data"
   ]
  },
  {
   "cell_type": "code",
   "execution_count": 35,
   "metadata": {},
   "outputs": [],
   "source": [
    "diamonds['diamonds_type']=np.where(diamonds['Round length']==diamonds['x_x'], 'Round', diamonds['diamonds_type'])"
   ]
  },
  {
   "cell_type": "markdown",
   "metadata": {},
   "source": [
    "Assigning cut shapes to diamonds"
   ]
  },
  {
   "cell_type": "code",
   "execution_count": 36,
   "metadata": {},
   "outputs": [
    {
     "data": {
      "text/plain": [
       "array(['other', 'Round', 'cushion'], dtype=object)"
      ]
     },
     "execution_count": 36,
     "metadata": {},
     "output_type": "execute_result"
    }
   ],
   "source": [
    "diamonds['diamonds_type'].unique()"
   ]
  },
  {
   "cell_type": "code",
   "execution_count": 43,
   "metadata": {},
   "outputs": [],
   "source": [
    "diamonds.drop(columns=[\"Potential Client\"], inplace=True)"
   ]
  },
  {
   "cell_type": "markdown",
   "metadata": {},
   "source": [
    "Setting a potential client"
   ]
  },
  {
   "cell_type": "code",
   "execution_count": 44,
   "metadata": {},
   "outputs": [],
   "source": [
    "datos = diamonds\n",
    "d=['D','E','F','G','H','I']\n",
    "b=['VS2', 'VS1', 'IF', 'VVS1', 'VVS2']\n",
    "e=['Excellent', 'Very good']\n",
    "\n",
    "D=['D','E','F']\n",
    "B=['IF', 'VVS1', 'VVS2']\n",
    "\n",
    "dd=['D','E','F','G','H']\n",
    "bb=['IF', 'VVS1']\n",
    "\n",
    "condiciones = [diamonds.color.isin(D) & diamonds.clarity.isin(B) & diamonds.table_type.isin(e),\n",
    "               diamonds.color.isin(dd) & diamonds.clarity.isin(bb) & diamonds.table_type.isin(e),diamonds.color.isin(d) & diamonds.clarity.isin(b) & diamonds.table_type.isin(e)]\n",
    "elecciones = ['Piaget', 'Cartier','Tiffanys']\n",
    "diamonds[\"Potential Client\"] = np.select(condiciones, elecciones, default=\"Common\")"
   ]
  },
  {
   "cell_type": "code",
   "execution_count": 46,
   "metadata": {},
   "outputs": [
    {
     "data": {
      "text/plain": [
       "array(['Common', 'Tiffanys', 'Cartier', 'Piaget'], dtype=object)"
      ]
     },
     "execution_count": 46,
     "metadata": {},
     "output_type": "execute_result"
    }
   ],
   "source": [
    "diamonds[\"Potential Client\"].unique()"
   ]
  },
  {
   "cell_type": "code",
   "execution_count": 58,
   "metadata": {},
   "outputs": [],
   "source": [
    "diamonds.to_csv(r'/home/carmencuadrado/Ironhack/ih_datamadpt0420_project_m2/diamonds_result.csv')"
   ]
  },
  {
   "cell_type": "code",
   "execution_count": 63,
   "metadata": {},
   "outputs": [
    {
     "data": {
      "text/html": [
       "<script>\n",
       "code_show=true; \n",
       "function code_toggle() {\n",
       " if (code_show){\n",
       " $('div.input').hide();\n",
       " } else {\n",
       " $('div.input').show();\n",
       " }\n",
       " code_show = !code_show\n",
       "} \n",
       "$( document ).ready(code_toggle);\n",
       "</script>\n",
       "The raw code for this IPython notebook is by default hidden for easier reading.\n",
       "To toggle on/off the raw code, click <a href=\"javascript:code_toggle()\">here</a>."
      ],
      "text/plain": [
       "<IPython.core.display.HTML object>"
      ]
     },
     "execution_count": 63,
     "metadata": {},
     "output_type": "execute_result"
    }
   ],
   "source": [
    "from IPython.display import HTML\n",
    "HTML('''<script>\n",
    "code_show=true; \n",
    "function code_toggle() {\n",
    " if (code_show){\n",
    " $('div.input').hide();\n",
    " } else {\n",
    " $('div.input').show();\n",
    " }\n",
    " code_show = !code_show\n",
    "} \n",
    "$( document ).ready(code_toggle);\n",
    "</script>\n",
    "The raw code for this IPython notebook is by default hidden for easier reading.\n",
    "To toggle on/off the raw code, click <a href=\"javascript:code_toggle()\">here</a>.''')"
   ]
  },
  {
   "cell_type": "code",
   "execution_count": null,
   "metadata": {},
   "outputs": [],
   "source": []
  }
 ],
 "metadata": {
  "kernelspec": {
   "display_name": "Python [conda env:Ironhack] *",
   "language": "python",
   "name": "conda-env-Ironhack-py"
  },
  "language_info": {
   "codemirror_mode": {
    "name": "ipython",
    "version": 3
   },
   "file_extension": ".py",
   "mimetype": "text/x-python",
   "name": "python",
   "nbconvert_exporter": "python",
   "pygments_lexer": "ipython3",
   "version": "3.7.3"
  }
 },
 "nbformat": 4,
 "nbformat_minor": 4
}
