{
 "cells": [
  {
   "cell_type": "markdown",
   "metadata": {},
   "source": [
    "# Libraries\n",
    "\n",
    "### Data Handling\n",
    "- Pandas\n",
    "- Regex\n",
    "\n",
    "### Data Enriching\n",
    "- Requests\n",
    "- BeautifulSoup\n",
    "\n",
    "### Data Exploration\n",
    "- Missingno\n",
    "\n",
    "### Data Visualization\n",
    "- Matplotlib\n",
    "- Seaborn\n",
    "- Cufflinks\n",
    "- Plotly"
   ]
  },
  {
   "cell_type": "markdown",
   "metadata": {},
   "source": [
    "# Starting point"
   ]
  },
  {
   "cell_type": "code",
   "execution_count": null,
   "metadata": {},
   "outputs": [],
   "source": []
  },
  {
   "cell_type": "markdown",
   "metadata": {},
   "source": [
    "# Diamonds 4Cs\n",
    "\n",
    "- **Cut** is determined by how a diamond’s facets interact with light. It is determine by three factors:\n",
    "    - Precision of cut: How the size and angles relate to the different parts of the stone\n",
    "    - Symmetry: How precisely the various facets of a diamond align and intersect\n",
    "    - Polish: The details and placement of the facet shapes as well as the outside finish of the diamond\n",
    "    \n",
    "    According to those parameters, diamonds are label by quality increasing order into Fair, Good, Very Good, Premium, Ideal.\n",
    "    \n",
    "    \n",
    "- **Clarity** is a measure of the purity and rarity of the stone graded by the visibility of these characteristics under 10-power magnification. A stone is graded as flawless (FL) if, under 10-power magnification, no inclusions (internal flaws) and no blemishes (external imperfections) are visible.Regarding this measure, we could rank diamonds by \n",
    "    - IF: diamonds are Internally Flawless,\n",
    "    - VVS1 VVS2: Very, Very Slightly Included\n",
    "    - VS1 VS2: Very Slightly Included\n",
    "    - SI1 SI2:Slightly Included\n",
    "    - I1 I2 I3: Imperfect\n",
    "    \n",
    "\n",
    "- **Color** refers to the natural tint inherent in white diamonds. \n",
    "    - DEF: Colorless\n",
    "    - GHIJ: Near colorless\n",
    "    - KLM: Faint yellow\n",
    "    - NOPQR: Very light yellow\n",
    "    - STUVWXYX: Light yellow\n",
    "\n",
    "\n",
    "- **Carat** denotes the weight of a diamond. One carat equals .20 grams.  it is important to note that carat weight does not necessarily denote size The majority of diamonds used in fine jewelry weigh one carat or less.\n",
    "\n",
    "\n",
    "# Diamonds size\n",
    "\n",
    "- **Depth** refers to the diamond, measured from the Culet to the table, divided by its average Girdle Diameter. It gives a glimpse of how proportionated the diamond is.\n",
    "    - A diamond with a lower depth percentage usually appears larger due to its increased width, but often creates a dark appearance as the diamond doesn’t reflect light as well.\n",
    "    - A diamond with too high of a depth percentage loses light out the bottom of the diamond, making it appear dull.\n",
    "    Depth = height/width\n",
    "\n",
    "\n",
    "- **Table** : The Width of the Diamond's Table expressed as a Percentage of its Average Diameter.\n",
    "     - If the table percentage is too low, light gets trapped inside the diamond and leaks out the sides of the diamond (instead of reflecting back through the table). \n",
    "     - If the table percentage is too high, light doesn’t reflect off of the diamond’s crown angles and facets leaving the diamond looking dull. \n",
    "     Table = table facet width/width\n",
    "\n",
    "\n",
    "- **x** : Length of the Diamond in mm.\n",
    "\n",
    "\n",
    "- **y** : Width of the Diamond in mm. Diameter of the diamond also known as the girdle\n",
    "\n",
    "\n",
    "- **z**: Height of the Diamond in mm.\n",
    "\n",
    "\n",
    "- **Price** : the Price of the Diamond."
   ]
  }
 ],
 "metadata": {
  "kernelspec": {
   "display_name": "Python [conda env:Ironhack] *",
   "language": "python",
   "name": "conda-env-Ironhack-py"
  },
  "language_info": {
   "codemirror_mode": {
    "name": "ipython",
    "version": 3
   },
   "file_extension": ".py",
   "mimetype": "text/x-python",
   "name": "python",
   "nbconvert_exporter": "python",
   "pygments_lexer": "ipython3",
   "version": "3.7.3"
  }
 },
 "nbformat": 4,
 "nbformat_minor": 4
}
