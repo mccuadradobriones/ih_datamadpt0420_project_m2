{
 "cells": [
  {
   "cell_type": "code",
   "execution_count": 23,
   "metadata": {},
   "outputs": [],
   "source": [
    "import pandas as pd\n",
    "from scipy.stats import t\n",
    "from scipy.stats import norm\n",
    "from scipy.stats import ttest_1samp\n",
    "from scipy.stats import ttest_rel, ttest_1samp, ttest_ind"
   ]
  },
  {
   "cell_type": "code",
   "execution_count": 9,
   "metadata": {},
   "outputs": [],
   "source": [
    "diamonds=pd.read_csv(r'/home/carmencuadrado/Ironhack/ih_datamadpt0420_project_m2/diamonds_result.csv')"
   ]
  },
  {
   "cell_type": "markdown",
   "metadata": {},
   "source": [
    "# Hypothesis Testing"
   ]
  },
  {
   "cell_type": "markdown",
   "metadata": {},
   "source": [
    "### Are our sample prices significantly different from 4.000?"
   ]
  },
  {
   "cell_type": "code",
   "execution_count": 46,
   "metadata": {},
   "outputs": [
    {
     "name": "stdout",
     "output_type": "stream",
     "text": [
      "t suggests that the price might be smaller than 4000€ as it is -3.7249518425708463\n",
      "\n",
      "We can reject the null hypothesis as the p-value is 0.0001956179232408509 Therefore, the average price is significantly different from 4000€\n"
     ]
    }
   ],
   "source": [
    "test_results = ttest_1samp(diamonds['price'], 4000)\n",
    "print('t suggests that the price might be smaller than 4000€ as it is',test_results.statistic)\n",
    "print('')\n",
    "print('We can reject the null hypothesis as the p-value is', test_results.pvalue, 'Therefore, the average price is significantly different from 4000€')"
   ]
  },
  {
   "cell_type": "markdown",
   "metadata": {},
   "source": [
    "### Sub-Test 5: Do Very-Good-cut-I-color diamonds have significant different price to Very-Good-cut-J-color diamonds?"
   ]
  },
  {
   "cell_type": "code",
   "execution_count": 47,
   "metadata": {},
   "outputs": [],
   "source": [
    "filter1=diamonds['cut']=='Very Good'\n",
    "filter2=diamonds['color']=='I'\n",
    "\n",
    "filter3= diamonds['cut']=='Very Good'\n",
    "filter4=diamonds['color']=='J'\n",
    "\n",
    "data1=diamonds['price'][filter1 & filter2]\n",
    "data2=diamonds['price'][filter3 & filter4]"
   ]
  },
  {
   "cell_type": "code",
   "execution_count": 48,
   "metadata": {},
   "outputs": [
    {
     "name": "stdout",
     "output_type": "stream",
     "text": [
      "Ttest_indResult(statistic=0.34857584108266776, pvalue=0.7274714598286438)\n",
      " \n",
      "In conclusion, we can not reject the null hypothesis as the p-value is >0.05. Thus, we assert that these two types of diamonds have a similar price on average.\n"
     ]
    }
   ],
   "source": [
    "print(ttest_ind(data1, data2, equal_var=False))\n",
    "print(' ')\n",
    "print('In conclusion, we can not reject the null hypothesis as the p-value is >0.05. Thus, we assert that these two types of diamonds have a similar price on average.')"
   ]
  },
  {
   "cell_type": "code",
   "execution_count": 49,
   "metadata": {},
   "outputs": [
    {
     "data": {
      "text/html": [
       "<script>\n",
       "code_show=true; \n",
       "function code_toggle() {\n",
       " if (code_show){\n",
       " $('div.input').hide();\n",
       " } else {\n",
       " $('div.input').show();\n",
       " }\n",
       " code_show = !code_show\n",
       "} \n",
       "$( document ).ready(code_toggle);\n",
       "</script>\n",
       "The raw code for this IPython notebook is by default hidden for easier reading.\n",
       "To toggle on/off the raw code, click <a href=\"javascript:code_toggle()\">here</a>."
      ],
      "text/plain": [
       "<IPython.core.display.HTML object>"
      ]
     },
     "execution_count": 49,
     "metadata": {},
     "output_type": "execute_result"
    }
   ],
   "source": [
    "from IPython.display import HTML\n",
    "HTML('''<script>\n",
    "code_show=true; \n",
    "function code_toggle() {\n",
    " if (code_show){\n",
    " $('div.input').hide();\n",
    " } else {\n",
    " $('div.input').show();\n",
    " }\n",
    " code_show = !code_show\n",
    "} \n",
    "$( document ).ready(code_toggle);\n",
    "</script>\n",
    "The raw code for this IPython notebook is by default hidden for easier reading.\n",
    "To toggle on/off the raw code, click <a href=\"javascript:code_toggle()\">here</a>.''')"
   ]
  },
  {
   "cell_type": "code",
   "execution_count": null,
   "metadata": {},
   "outputs": [],
   "source": []
  }
 ],
 "metadata": {
  "kernelspec": {
   "display_name": "Python [conda env:Ironhack] *",
   "language": "python",
   "name": "conda-env-Ironhack-py"
  },
  "language_info": {
   "codemirror_mode": {
    "name": "ipython",
    "version": 3
   },
   "file_extension": ".py",
   "mimetype": "text/x-python",
   "name": "python",
   "nbconvert_exporter": "python",
   "pygments_lexer": "ipython3",
   "version": "3.7.3"
  }
 },
 "nbformat": 4,
 "nbformat_minor": 4
}
